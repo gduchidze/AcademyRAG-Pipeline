{
  "cells": [
    {
      "cell_type": "markdown",
      "metadata": {
        "id": "pmxTWwRTM7xk"
      },
      "source": [
        "## Python Programming Basics"
      ]
    },
    {
      "cell_type": "markdown",
      "metadata": {
        "id": "FYJwqdSiM7xn"
      },
      "source": [
        "## რიცხვები და ცვლადები\n",
        "\n",
        "\n"
      ]
    },
    {
      "cell_type": "code",
      "execution_count": null,
      "metadata": {
        "id": "TzjMSGXCM7xo",
        "outputId": "7c3994c9-4fd2-43c7-dd40-cbf7098812aa"
      },
      "outputs": [
        {
          "data": {
            "text/plain": [
              "5"
            ]
          },
          "execution_count": 1,
          "metadata": {},
          "output_type": "execute_result"
        }
      ],
      "source": [
        "2 + 2 + 1 # comment"
      ]
    },
    {
      "cell_type": "code",
      "execution_count": null,
      "metadata": {
        "id": "fxIJaFMWM7xp",
        "outputId": "9ec9c37f-6cca-433c-bccc-5f1a72dca56f"
      },
      "outputs": [
        {
          "name": "stdout",
          "output_type": "stream",
          "text": [
            "4\n",
            "<class 'int'>\n"
          ]
        }
      ],
      "source": [
        "a = 4\n",
        "print(a)\n",
        "print(type(a))"
      ]
    },
    {
      "cell_type": "code",
      "execution_count": null,
      "metadata": {
        "id": "b1-1LqfzM7xq",
        "outputId": "38ef8f8a-f57c-40da-c9ef-5884ca239d26"
      },
      "outputs": [
        {
          "name": "stdout",
          "output_type": "stream",
          "text": [
            "4\n",
            "9000\n"
          ]
        }
      ],
      "source": [
        "a,x = 4, 9000\n",
        "print(a)\n",
        "print(x)"
      ]
    },
    {
      "cell_type": "markdown",
      "metadata": {
        "id": "gq9kJnhKM7xq"
      },
      "source": [
        "\n",
        "\n",
        "ცვლადების სახელები შეიძლება შეიცავდეს სიმბოლოებს 'a-z', 'A-Z', '0-9' და ზოგ special სიმბოლოსაც, როგორიცაა '_', მაგრამ ყოველთვის უნდა იწყებოდეს ასოზე. შეთანხმების მიხედვით, ცვლადის სახელებს პითონში ვწერთ ე.წ. \"snake case\"-ით, ანუ  პატარა ასოებით, და სიტყვებს გამოვყოფთ \"_\" სიმბოლოთი.\n",
        "\n",
        "\n",
        "## ცვლადების ტიპები\n",
        "\n",
        "ცვლადის ინიციალიზაციისას პითონში არ არის აუცილებელი ცვლადის ტიპის მითითება:"
      ]
    },
    {
      "cell_type": "code",
      "execution_count": null,
      "metadata": {
        "id": "SHM_EKRdM7xr",
        "outputId": "4ea1aaaf-ac0c-40d7-f68d-33483a0bfcef"
      },
      "outputs": [
        {
          "name": "stdout",
          "output_type": "stream",
          "text": [
            "Integer\n",
            "3 <class 'int'>\n",
            "\n",
            "Float\n",
            "3.14 <class 'float'>\n",
            "\n",
            "Complex\n",
            "(3.14+2j) <class 'complex'>\n",
            "3.14 <class 'float'>\n",
            "2.0 <class 'float'>\n"
          ]
        }
      ],
      "source": [
        "print(\"Integer\")\n",
        "a = 3\n",
        "print(a,type(a))\n",
        "\n",
        "print(\"\\nFloat\")\n",
        "b = 3.14\n",
        "print(b,type(b))\n",
        "\n",
        "print(\"\\nComplex\")\n",
        "c = 3.14 + 2j\n",
        "print(c,type(c))\n",
        "print(c.real,type(c.real))\n",
        "print(c.imag,type(c.imag))"
      ]
    },
    {
      "cell_type": "markdown",
      "metadata": {
        "id": "qcoqX1--M7xr"
      },
      "source": [
        "\n",
        "ამან შესაძლოა გამოიწვიოს არასასურველი ტიპის მნიშვნელობების მიღება, სადაც შეიძლება რომ მონაცამების ე.წ. \"დაკასტვამ\" გვიშველოს:"
      ]
    },
    {
      "cell_type": "code",
      "execution_count": null,
      "metadata": {
        "id": "VPonmqd7M7xr",
        "outputId": "a968e469-7d9c-4b6c-a79b-f199ea632786"
      },
      "outputs": [
        {
          "name": "stdout",
          "output_type": "stream",
          "text": [
            "(-1+0j) <class 'complex'>\n",
            "-1.0 <class 'float'>\n",
            "-1 <class 'int'>\n"
          ]
        }
      ],
      "source": [
        "d = 1j*1j\n",
        "print(d,type(d))\n",
        "d = d.real\n",
        "print(d,type(d))\n",
        "d = int(d)\n",
        "print(d,type(d))"
      ]
    },
    {
      "cell_type": "code",
      "execution_count": null,
      "metadata": {
        "id": "3Uf0pEVYM7xs",
        "outputId": "b925c616-ad87-4a1d-d9f3-0768f1739554"
      },
      "outputs": [
        {
          "name": "stdout",
          "output_type": "stream",
          "text": [
            "3.3333333333333335 <class 'float'>\n",
            "1.0 <class 'float'>\n",
            "1 <class 'int'>\n"
          ]
        }
      ],
      "source": [
        "e = 10/3\n",
        "print(e,type(e))\n",
        "f = (10/3)/(10/3)\n",
        "print(f,type(f))\n",
        "f = int((10/3)/(10/3))\n",
        "print(f,type(f))"
      ]
    },
    {
      "cell_type": "markdown",
      "metadata": {
        "id": "wUZ8qwDzM7xs"
      },
      "source": [
        "## ოპერაციები რიცხვებზე:\n",
        "\n",
        "\n",
        "* გამრავლება და გაყოფა `*` and `/`\n",
        "* ხარისხში აყვანა `**`\n",
        "* ნაშთი `%`"
      ]
    },
    {
      "cell_type": "code",
      "execution_count": null,
      "metadata": {
        "id": "zU3EAT7hM7xs",
        "outputId": "44a917c4-71c8-4410-e2c1-a58bdb9b4018"
      },
      "outputs": [
        {
          "name": "stdout",
          "output_type": "stream",
          "text": [
            "21.0 <class 'float'>\n"
          ]
        }
      ],
      "source": [
        "print(7 * 3., type(7 * 3.))  # int x float -> float"
      ]
    },
    {
      "cell_type": "code",
      "execution_count": null,
      "metadata": {
        "id": "VXgyT7yXM7xs",
        "outputId": "6e42951d-b789-4112-bd5b-e82fefe9a014"
      },
      "outputs": [
        {
          "name": "stdout",
          "output_type": "stream",
          "text": [
            "1.5 <class 'float'>\n",
            "1.5 <class 'float'>\n"
          ]
        }
      ],
      "source": [
        "print(3/2, type(3/2))  # Warning: int in Python 2,  float in Python 3\n",
        "print(3/2., type(3/2.))"
      ]
    },
    {
      "cell_type": "code",
      "execution_count": null,
      "metadata": {
        "id": "Qtgknx-cM7xt",
        "outputId": "b7bc2df3-5720-4850-85ff-22b22a508c7c"
      },
      "outputs": [
        {
          "name": "stdout",
          "output_type": "stream",
          "text": [
            "1024 <class 'int'>\n"
          ]
        }
      ],
      "source": [
        "print(2**10, type(2**10))"
      ]
    },
    {
      "cell_type": "code",
      "execution_count": null,
      "metadata": {
        "id": "BF8Gx2I-M7xt",
        "outputId": "51d2a528-2cc7-4565-f50c-05a7b9cd9332"
      },
      "outputs": [
        {
          "name": "stdout",
          "output_type": "stream",
          "text": [
            "0 <class 'int'>\n"
          ]
        }
      ],
      "source": [
        "print(8%2, type(8%2))"
      ]
    },
    {
      "cell_type": "markdown",
      "metadata": {
        "id": "LCFbqMxOM7xt"
      },
      "source": [
        "## ბულეანები\n",
        "\n",
        "Boolean is the type of a variable `True` or `False` and thus are extremely useful when coding.\n",
        "ბულეანი არის ცვლადის ტიპი, რომელსაც აქვს ორი შესაძლო მნიშვნელობა, ან 'True' არის ან 'False'\n",
        "\n",
        "* True ან False მნიშვნელობები შეგვიძლია მივიღოთ, მაგალითად, შედარებების შედეგად  `>`, `>=` , `<`, `<=` , `==` , `!=`\n",
        "* ან ლოგიკური ოპერატორების გამოყენებით `and`, `not`, `or`."
      ]
    },
    {
      "cell_type": "code",
      "execution_count": null,
      "metadata": {
        "id": "3qDkHhBJM7xt",
        "outputId": "34dd418d-36b5-4302-c79e-da01ea2c136d"
      },
      "outputs": [
        {
          "name": "stdout",
          "output_type": "stream",
          "text": [
            "2 > 1\t True\n",
            "2 > 2\t False\n",
            "2 >= 2\t True\n",
            "2 == 2\t True\n",
            "2 == 2.0 True\n",
            "2 != 1.9 True\n"
          ]
        }
      ],
      "source": [
        "print('2 > 1\\t', 2 > 1)\n",
        "print('2 > 2\\t', 2 > 2)\n",
        "print('2 >= 2\\t',2 >= 2)\n",
        "print('2 == 2\\t',2 == 2)\n",
        "print('2 == 2.0',2 == 2.0)\n",
        "print('2 != 1.9',2 != 1.9)"
      ]
    },
    {
      "cell_type": "code",
      "execution_count": null,
      "metadata": {
        "id": "238VQu1pM7xu",
        "outputId": "c59ea577-0d63-402a-dfd2-63f4a66dc58e"
      },
      "outputs": [
        {
          "name": "stdout",
          "output_type": "stream",
          "text": [
            "False\n",
            "True\n",
            "True\n"
          ]
        }
      ],
      "source": [
        "print(True and False)\n",
        "print(True or True)\n",
        "print(not False)"
      ]
    },
    {
      "cell_type": "markdown",
      "metadata": {
        "id": "uoEKm5UmM7xu"
      },
      "source": [
        "## სიები (Lists)\n",
        "\n",
        "ლისტით შეგვიძლია სხვადასხვა ცვლადების მიმდევრობა აღვწეროთ, თუმცა თავად ლისტ-იც ცვლადის ერთ-ერთი ტიპია.\n",
        "* სინტაქსი : `[ ... , ... ]`\n",
        "* შეიძლება ლისტ-ში სხვადასხვა ტიპის ცვლადები გვქონდეს\n",
        "* ინდექსაცია იწყება 0-დან\n",
        "* შეგვიძლია გვქონდეს ლისტების ლისტიც\n",
        "\n",
        "\n",
        "* პითონში არსებობს ლისტი-ს მსგავსი სხვა ტიპიც, რომელსაც ეწოდება **tuple**, ასეთი სინტაქსით `( ... , ... )` - იმ  განსხვავებით, რომ tuple-ში არ შეიძლება მონაცემების ჩამატება ან ამოკლება."
      ]
    },
    {
      "cell_type": "code",
      "execution_count": null,
      "metadata": {
        "id": "cNJSqVxZM7xu",
        "outputId": "f6875251-f909-41fd-9dd5-533da6d8a525"
      },
      "outputs": [
        {
          "name": "stdout",
          "output_type": "stream",
          "text": [
            "[1, 2, 3, [4, 8], True, 2.3] <class 'list'>\n"
          ]
        }
      ],
      "source": [
        "l = [1, 2, 3, [4,8] , True , 2.3]\n",
        "print(l, type(l))"
      ]
    },
    {
      "cell_type": "code",
      "execution_count": null,
      "metadata": {
        "id": "KI8c8QqtM7xv",
        "outputId": "8d4679ac-413b-468f-dc16-44c24c829857"
      },
      "outputs": [
        {
          "name": "stdout",
          "output_type": "stream",
          "text": [
            "1 <class 'int'>\n",
            "[4, 8] <class 'list'>\n",
            "8 <class 'int'>\n"
          ]
        }
      ],
      "source": [
        "print(l[0],type(l[0]))\n",
        "print(l[3],type(l[3]))\n",
        "print(l[3][1],type(l[3][1]))"
      ]
    },
    {
      "cell_type": "code",
      "execution_count": null,
      "metadata": {
        "id": "J8i__rO4M7xv",
        "outputId": "192454fa-f367-45df-9bd0-6c57fa774c6d"
      },
      "outputs": [
        {
          "name": "stdout",
          "output_type": "stream",
          "text": [
            "[1, 2, 3, [4, 8], True, 2.3]\n",
            "[True, 2.3]\n",
            "[1, 2, 3, [4, 8], True]\n",
            "[True]\n",
            "[2, [4, 8], 2.3]\n",
            "[2.3, True, [4, 8], 3, 2, 1]\n",
            "2.3\n"
          ]
        }
      ],
      "source": [
        "print(l)\n",
        "print(l[4:]) # l[4:] is l from the position 4 (included)\n",
        "print(l[:5]) # l[:5] is l up to position 5 (excluded)\n",
        "print(l[4:5]) # l[4:5] is l between 4 (included) and 5 (excluded) so just 4\n",
        "print(l[1:6:2])  # l[1:6:2] is l between 1 (included) and 6 (excluded) by steps of 2 thus 1,3,5\n",
        "print(l[::-1]) # reversed order\n",
        "print(l[-1]) # last element"
      ]
    },
    {
      "cell_type": "markdown",
      "metadata": {
        "id": "FsVmSeF8M7xv"
      },
      "source": [
        "### მოქმედებები (ოპერაციები) list-ებზე:\n",
        "\n",
        "შეგვიძლია ელემენტი დავამატოთ, ჩავა-ინსერტ-ოთ (კონკრეტულ პოზიციაზე), ამოვშალოთ, დავითვალოთ მისი რაოდენობა ან შევამოწმოთ არის თუ არა ის ლისტში"
      ]
    },
    {
      "cell_type": "code",
      "execution_count": null,
      "metadata": {
        "id": "X3d49mnRM7xw",
        "outputId": "5bee06cb-43fe-4343-f1cb-1eda22981514"
      },
      "outputs": [
        {
          "name": "stdout",
          "output_type": "stream",
          "text": [
            "[1, 2, 3, [4, 8], True, 2.3, 10]\n"
          ]
        }
      ],
      "source": [
        "l.append(10)   # Add an element to l (the list is not copied, it is actually l that is modified)\n",
        "print(l)"
      ]
    },
    {
      "cell_type": "code",
      "execution_count": null,
      "metadata": {
        "id": "Ax_HRbgQM7xw",
        "outputId": "83b9dea5-a693-4676-ae13-8de741833b4d"
      },
      "outputs": [
        {
          "name": "stdout",
          "output_type": "stream",
          "text": [
            "[1, 'u', 2, 3, [4, 8], True, 2.3, 10]\n"
          ]
        }
      ],
      "source": [
        "l.insert(1,'u')   # Insert an element at position 1 in l (the list is not copied, it is actually l that is modified)\n",
        "print(l)"
      ]
    },
    {
      "cell_type": "code",
      "execution_count": null,
      "metadata": {
        "id": "C8-D_4EJM7xx",
        "outputId": "306aa966-b9de-4dde-e445-8f7ca14bab79"
      },
      "outputs": [
        {
          "name": "stdout",
          "output_type": "stream",
          "text": [
            "[1, 'u', 2, 3, [4, 8], True, 2.3]\n"
          ]
        }
      ],
      "source": [
        "l.remove(10) # Remove the first element 10 of l\n",
        "print(l)"
      ]
    },
    {
      "cell_type": "code",
      "execution_count": null,
      "metadata": {
        "id": "Z2-SUpoBM7xx",
        "outputId": "21a2a1a4-7c49-4d56-b78b-f079445013fe"
      },
      "outputs": [
        {
          "name": "stdout",
          "output_type": "stream",
          "text": [
            "7\n",
            "True\n"
          ]
        }
      ],
      "source": [
        "print(len(l)) # length of a list\n",
        "print(2 in l)  # test if 2 is in l"
      ]
    },
    {
      "cell_type": "markdown",
      "metadata": {
        "id": "d11UKbrgM7xx"
      },
      "source": [
        "### ლისტებთან ურთიერთობა\n",
        "\n",
        "\n",
        "ლისტები ფოინთერების მსგავსი ტიპებია, რაც ნიშნავს იმას, რომ თუ დაწერ 'l2=l', ეს არ ნიშნავს იმას, რომ l-ის აკოპირებ l2-ში, არამედ აკოპირებ ფოინთერს, რაც იმას ნიშნავს, რომ ერთის ცვლილება მეორეს ცვლილებასაც გამოიწვევს. ამის თავიდან ასარიდებლად, შეგვიძლია გამოვიყენოთ მეთოდი \"copy\"\n",
        "\n"
      ]
    },
    {
      "cell_type": "code",
      "execution_count": null,
      "metadata": {
        "id": "8kQhrdPvM7xy",
        "outputId": "b59ab584-1cdd-4859-f140-9b83c7d88156"
      },
      "outputs": [
        {
          "name": "stdout",
          "output_type": "stream",
          "text": [
            "[1, 'u', 2, 3, [4, 8], True, 2.3, 'Something'] [1, 'u', 2, 3, [4, 8], True, 2.3, 'Something']\n"
          ]
        }
      ],
      "source": [
        "l2 = l\n",
        "l.append('Something')\n",
        "print(l,l2)"
      ]
    },
    {
      "cell_type": "code",
      "execution_count": null,
      "metadata": {
        "id": "xE2d0BMoM7xy",
        "outputId": "4c03389b-c472-46e4-a873-63e709253238"
      },
      "outputs": [
        {
          "name": "stdout",
          "output_type": "stream",
          "text": [
            "[1, 'u', 2, 3, [4, 8], True, 2.3] [1, 'u', 2, 3, [4, 8], True, 2.3, 'Something']\n"
          ]
        }
      ],
      "source": [
        "l3 = list(l) # l.copy() works in Python 3\n",
        "l.remove('Something')\n",
        "print(l,l3)"
      ]
    },
    {
      "cell_type": "code",
      "execution_count": null,
      "metadata": {
        "id": "SpLK61CNM7xz",
        "outputId": "2d3d8379-60ae-4978-d084-c753f35ae8a4"
      },
      "outputs": [
        {
          "name": "stdout",
          "output_type": "stream",
          "text": [
            "[1, 'u', 2, 3, [4, 8], True, 2.3, 4, 8, 10.9865]\n",
            "[4, 8, 10.9865, 4, 8, 10.9865, 4, 8, 10.9865]\n"
          ]
        }
      ],
      "source": [
        "l4 = []\n",
        "l5 =[4,8,10.9865]\n",
        "print(l+l4+l5)\n",
        "print(l5*3)"
      ]
    },
    {
      "cell_type": "markdown",
      "metadata": {
        "id": "FRiZMIRDM7xz"
      },
      "source": [
        "## Tuple-ს (ტუფლები:))\n",
        "\n",
        "\n",
        "ლისტის მსგავსი სტრუქტურა, რომელიც იქმნება '(...,...)' ასე, ან უბრალოდ მძიმის გამოყენებით. Tuple არ იცვლება"
      ]
    },
    {
      "cell_type": "code",
      "execution_count": null,
      "metadata": {
        "id": "PPps__TwM7x0",
        "outputId": "d7504110-8376-49e2-93ca-b22447aa7d1e"
      },
      "outputs": [
        {
          "name": "stdout",
          "output_type": "stream",
          "text": [
            "(1, 'b', 876876.908) <class 'tuple'>\n",
            "1\n"
          ]
        }
      ],
      "source": [
        "t = (1,'b',876876.908)\n",
        "print(t,type(t))\n",
        "print(t[0])"
      ]
    },
    {
      "cell_type": "code",
      "execution_count": null,
      "metadata": {
        "id": "6QyCh7nDM7x0",
        "outputId": "2a4b445f-ca06-4043-e4e5-6cfbd47ef6b3"
      },
      "outputs": [
        {
          "name": "stdout",
          "output_type": "stream",
          "text": [
            "12 [987, 98987] (12, [987, 98987])\n"
          ]
        }
      ],
      "source": [
        "a,b = 12,[987,98987]\n",
        "u = a,b\n",
        "print(a,b,u)"
      ]
    },
    {
      "cell_type": "code",
      "execution_count": null,
      "metadata": {
        "id": "QkFL2rQ7M7x0",
        "outputId": "cb7ad3b9-6547-470a-cf37-008bd4d069a2"
      },
      "outputs": [
        {
          "name": "stdout",
          "output_type": "stream",
          "text": [
            "'tuple' object does not support item assignment\n"
          ]
        }
      ],
      "source": [
        "try:\n",
        "    u[1] = 2\n",
        "except Exception as error:\n",
        "    print(error)"
      ]
    },
    {
      "cell_type": "markdown",
      "metadata": {
        "id": "bPMS-SlFM7x1"
      },
      "source": [
        "# Dictionaries\n",
        "(ლექსიკონები) ინახავენ key-value წყვილებს შემდეგი სინტაქსით\n",
        "'{key1:value1,..}'\n"
      ]
    },
    {
      "cell_type": "code",
      "execution_count": null,
      "metadata": {
        "id": "f-8A7pB6M7x1",
        "outputId": "c6f940d4-4ab1-457f-82b1-c542cfcb28b3"
      },
      "outputs": [
        {
          "name": "stdout",
          "output_type": "stream",
          "text": [
            "{'param1': 1.0, 'param2': True, 'param3': 'red'} <class 'dict'>\n"
          ]
        }
      ],
      "source": [
        "d = {\"param1\" : 1.0, \"param2\" : True, \"param3\" : \"red\"}\n",
        "print(d,type(d))"
      ]
    },
    {
      "cell_type": "code",
      "execution_count": null,
      "metadata": {
        "id": "NVh4qxkKM7x1",
        "outputId": "442cbaa2-4731-415c-8b1a-4b061df85de8"
      },
      "outputs": [
        {
          "name": "stdout",
          "output_type": "stream",
          "text": [
            "1.0\n",
            "{'param1': 2.4, 'param2': True, 'param3': 'red'}\n"
          ]
        }
      ],
      "source": [
        "print(d[\"param1\"])\n",
        "d[\"param1\"] = 2.4\n",
        "print(d)"
      ]
    },
    {
      "cell_type": "markdown",
      "metadata": {
        "id": "kG9xJRK7M7x1"
      },
      "source": [
        "## String-ები და ტექსტის ფორმატირება\n",
        "\n",
        "* ტექსტუალურ მნიშვნელობებს, ანუ სტრინგებს ვწერთ ბრჭყალების გამოყენებით\n",
        "* <tt>print</tt> ის მეშვეობით შეგვიძლია გამოვსახოთ ტექსტის მნიშვნელობა\n",
        "* თუ გვინდა ტექსტში ცვლადები გამოვიყენოთ, სასურველია მივმართოთ format მეთოდს\n"
      ]
    },
    {
      "cell_type": "code",
      "execution_count": null,
      "metadata": {
        "id": "seyDHrbwM7x1",
        "outputId": "f9f2ba55-ef66-4ac7-e614-e253887a979d"
      },
      "outputs": [
        {
          "name": "stdout",
          "output_type": "stream",
          "text": [
            "test <class 'str'>\n"
          ]
        }
      ],
      "source": [
        "s = \"test\"\n",
        "print(s,type(s))"
      ]
    },
    {
      "cell_type": "code",
      "execution_count": null,
      "metadata": {
        "id": "9AOOdcMVM7x2",
        "outputId": "4e3dd5b5-4f7c-4830-bc4d-6685297f2232"
      },
      "outputs": [
        {
          "name": "stdout",
          "output_type": "stream",
          "text": [
            "t\n",
            "test42\n"
          ]
        }
      ],
      "source": [
        "print(s[0])\n",
        "print(s + \"42\")"
      ]
    },
    {
      "cell_type": "code",
      "execution_count": null,
      "metadata": {
        "id": "rA7Vmb9zM7x2",
        "outputId": "f1d7e589-3d3e-4b7f-ad45-0db6428d1b04"
      },
      "outputs": [
        {
          "name": "stdout",
          "output_type": "stream",
          "text": [
            "test 42\n",
            "test42\n"
          ]
        }
      ],
      "source": [
        "print(s,42)\n",
        "print(s+\"42\")"
      ]
    },
    {
      "cell_type": "code",
      "execution_count": null,
      "metadata": {
        "id": "gtEsVzy9M7x2",
        "outputId": "7759e294-0ab3-46cf-9906-9626905a6c75"
      },
      "outputs": [
        {
          "name": "stdout",
          "output_type": "stream",
          "text": [
            "can only concatenate str (not \"int\") to str\n"
          ]
        }
      ],
      "source": [
        "try:\n",
        "    print(s+42)\n",
        "except Exception as error:\n",
        "    print(error)"
      ]
    },
    {
      "cell_type": "markdown",
      "metadata": {
        "id": "7jW_hLuIM7x2"
      },
      "source": [
        "The `format` method"
      ]
    },
    {
      "cell_type": "code",
      "execution_count": null,
      "metadata": {
        "id": "YUJgIEQpM7x2",
        "outputId": "9ee687a4-1428-4e1a-b23d-0e705dbb3ff2"
      },
      "outputs": [
        {
          "name": "stdout",
          "output_type": "stream",
          "text": [
            "test 42\n"
          ]
        }
      ],
      "source": [
        "print( \"test {}\".format(42) )"
      ]
    },
    {
      "cell_type": "code",
      "execution_count": null,
      "metadata": {
        "id": "WDDrY9U7M7x2",
        "outputId": "ca00e516-7b6d-4e53-a49c-2a3f32b6e711"
      },
      "outputs": [
        {
          "name": "stdout",
          "output_type": "stream",
          "text": [
            "test with an int 4, a float 3.141 (or 3.141000e+00 which is roughly 3.1)\n"
          ]
        }
      ],
      "source": [
        "print( \"test with an int {:d}, a float {} (or {:e} which is roughly {:.1f})\".format(4 , 3.141 , 3.141 , 3.141 ))"
      ]
    },
    {
      "cell_type": "markdown",
      "metadata": {
        "id": "ns1shkH_M7x2"
      },
      "source": [
        "# Branching and Loops / პირობები და ციკლები\n",
        "\n",
        "\n",
        "## If, Elif, Else\n",
        "\n",
        "\n",
        "\n",
        "\n"
      ]
    },
    {
      "cell_type": "code",
      "execution_count": null,
      "metadata": {
        "id": "iR0EOtc7M7x3",
        "outputId": "8b6184bc-1384-433c-c928-068af9b32e03"
      },
      "outputs": [
        {
          "name": "stdout",
          "output_type": "stream",
          "text": [
            "statement1 and statement2 are False\n"
          ]
        }
      ],
      "source": [
        "statement1 = False\n",
        "statement2 = False\n",
        "\n",
        "if statement1:\n",
        "    print(\"statement1 is True\")\n",
        "elif statement2:\n",
        "    print(\"statement2 is True\")\n",
        "else:\n",
        "    print(\"statement1 and statement2 are False\")"
      ]
    },
    {
      "cell_type": "code",
      "execution_count": null,
      "metadata": {
        "id": "XcPknvJDM7x3",
        "outputId": "66ffba43-0812-43ea-b7cd-09639125bfdf"
      },
      "outputs": [
        {
          "name": "stdout",
          "output_type": "stream",
          "text": [
            "both statement1 and statement2 are True\n"
          ]
        }
      ],
      "source": [
        "statement1 = statement2 = True\n",
        "\n",
        "if statement1:\n",
        "    if statement2:\n",
        "        print(\"both statement1 and statement2 are True\")"
      ]
    },
    {
      "cell_type": "code",
      "execution_count": null,
      "metadata": {
        "id": "vXfBOTZYM7x3",
        "outputId": "2115d8a7-d4b3-46d8-d0cc-1ac350a6a510"
      },
      "outputs": [
        {
          "name": "stdout",
          "output_type": "stream",
          "text": [
            "here it is ok\n",
            "after the previous line, here also\n"
          ]
        }
      ],
      "source": [
        "if statement1:\n",
        "    if statement2: # Bad indentation!\n",
        "    #print(\"both statement1 and statement2 are True\") # Uncommenting Would cause an error\n",
        "        print(\"here it is ok\")\n",
        "    print(\"after the previous line, here also\")"
      ]
    },
    {
      "cell_type": "code",
      "execution_count": null,
      "metadata": {
        "id": "P_y804bxM7x3",
        "outputId": "629303e2-d84e-4c47-b2ae-c0ed2c9c268b"
      },
      "outputs": [
        {
          "name": "stdout",
          "output_type": "stream",
          "text": [
            "printed if statement1 is True\n",
            "still inside the if block\n"
          ]
        }
      ],
      "source": [
        "statement1 = True\n",
        "\n",
        "if statement1:\n",
        "    print(\"printed if statement1 is True\")\n",
        "\n",
        "\n",
        "\n",
        "    print(\"still inside the if block\")"
      ]
    },
    {
      "cell_type": "code",
      "execution_count": null,
      "metadata": {
        "id": "H6VK0ZxzM7x3",
        "outputId": "c145c2b8-6c74-4eaf-8b06-9ad7048ba56a"
      },
      "outputs": [
        {
          "name": "stdout",
          "output_type": "stream",
          "text": [
            "outside the if block\n"
          ]
        }
      ],
      "source": [
        "statement1 = False\n",
        "\n",
        "if statement1:\n",
        "    print(\"printed if statement1 is True\")\n",
        "\n",
        "print(\"outside the if block\")"
      ]
    },
    {
      "cell_type": "markdown",
      "metadata": {
        "id": "fEkhb0q2M7x4"
      },
      "source": [
        "## For loops / ციკლები\n"
      ]
    },
    {
      "cell_type": "code",
      "execution_count": null,
      "metadata": {
        "id": "UQrdnoiTM7x4",
        "outputId": "f78f73fc-1dae-4ef3-e113-5f909e976033"
      },
      "outputs": [
        {
          "name": "stdout",
          "output_type": "stream",
          "text": [
            "1\n",
            "2\n",
            "3\n"
          ]
        }
      ],
      "source": [
        "for x in [1, 2, 3]:\n",
        "    print(x)"
      ]
    },
    {
      "cell_type": "code",
      "execution_count": null,
      "metadata": {
        "id": "ILrN1psaM7x4",
        "outputId": "71fd6eac-5ce5-4ffe-d38e-02627de98ef3"
      },
      "outputs": [
        {
          "name": "stdout",
          "output_type": "stream",
          "text": [
            "Python for data Science \n"
          ]
        }
      ],
      "source": [
        "sentence = \"\"\n",
        "for word in [\"Python\", \"for\", \"data\", \"Science\"]:\n",
        "    sentence = sentence + word + \" \"\n",
        "print(sentence)"
      ]
    },
    {
      "cell_type": "code",
      "execution_count": null,
      "metadata": {
        "id": "ax6frRc-M7x4",
        "outputId": "7fecdf8c-8598-44ea-ae5f-79a986093d18"
      },
      "outputs": [
        {
          "name": "stdout",
          "output_type": "stream",
          "text": [
            "Range (from 0) to 4 (excluded) \n",
            "0\n",
            "1\n",
            "2\n",
            "3\n",
            "Range from 2 (included) to 6 (excluded) \n",
            "2\n",
            "3\n",
            "4\n",
            "5\n",
            "Range from 1 (included) to 12 (excluded) by steps of 3 \n",
            "1\n",
            "4\n",
            "7\n",
            "10\n"
          ]
        }
      ],
      "source": [
        "print(\"Range (from 0) to 4 (excluded) \")\n",
        "for x in range(4):\n",
        "    print(x)\n",
        "\n",
        "print(\"Range from 2 (included) to 6 (excluded) \")\n",
        "for x in range(2,6):\n",
        "    print(x)\n",
        "\n",
        "print(\"Range from 1 (included) to 12 (excluded) by steps of 3 \")\n",
        "for x in range(1,12,3):\n",
        "    print(x)"
      ]
    },
    {
      "cell_type": "code",
      "execution_count": null,
      "metadata": {
        "id": "FSGWsLkzM7x4",
        "outputId": "48931668-5baa-445b-aa20-5285b05be80d"
      },
      "outputs": [
        {
          "name": "stdout",
          "output_type": "stream",
          "text": [
            "0 -3\n",
            "1 -2\n",
            "2 -1\n",
            "3 0\n",
            "4 1\n",
            "5 2\n"
          ]
        }
      ],
      "source": [
        "for idx, x in enumerate(range(-3,3)):\n",
        "    print(idx, x)"
      ]
    },
    {
      "cell_type": "markdown",
      "metadata": {
        "id": "LStvAgnwM7x5"
      },
      "source": [
        "## While loop/ მანამ, სანამ..\n",
        "\n"
      ]
    },
    {
      "cell_type": "code",
      "execution_count": null,
      "metadata": {
        "id": "3dttau27M7x5",
        "outputId": "351d29d4-c77a-4f87-b5bd-b3922a835b58"
      },
      "outputs": [
        {
          "name": "stdout",
          "output_type": "stream",
          "text": [
            "0\n",
            "1\n",
            "2\n",
            "3\n",
            "4\n"
          ]
        }
      ],
      "source": [
        "i = 0\n",
        "\n",
        "while i<5:\n",
        "    print(i)\n",
        "    i+=1"
      ]
    },
    {
      "cell_type": "markdown",
      "metadata": {
        "id": "31t-SQFsM7x5"
      },
      "source": [
        "## Try [*]\n",
        "\n",
        "\n",
        "შეიძლება ჩვენი ბრძანება და-fail-დეს/დაერორდეს. ამისგან თავის დასაზღვევად, შეგვიძლია გამოვიყენოთ 'Try'/'Except' ბლოკები:"
      ]
    },
    {
      "cell_type": "code",
      "execution_count": null,
      "metadata": {
        "id": "g8MdyzX-M7x5",
        "outputId": "415b1098-727b-4d71-cfc4-94d9aaf1f6bc"
      },
      "outputs": [
        {
          "name": "stdout",
          "output_type": "stream",
          "text": [
            "[1, 2, 3]\n",
            "command ok\n",
            "[1, 3, 3]\n",
            "list assignment index out of range\n",
            "[1, 3, 3]\n"
          ]
        }
      ],
      "source": [
        "a = [1,2,3]\n",
        "print(a)\n",
        "\n",
        "try:\n",
        "    a[1] = 3\n",
        "    print(\"command ok\")\n",
        "except Exception as error:\n",
        "    print(error)\n",
        "\n",
        "print(a) # The command went through\n",
        "\n",
        "try:\n",
        "    a[6] = 3\n",
        "    print(\"command ok\")\n",
        "except Exception as error:\n",
        "    print(error)\n",
        "\n",
        "print(a) # The command failed"
      ]
    },
    {
      "cell_type": "markdown",
      "metadata": {
        "id": "00aru0c2M7x5"
      },
      "source": [
        "# ფუნქციები\n",
        "\n",
        "\n",
        "პითონში, ფუნქცია განისაზღვრება ასე: 'def function_name(function_arguments):', რასაც მოყვება indentation - ერთი ტაბით შეწევა, და ფუნქციის აღწერა. არ არის აუცილებელი ფუნქციამ რაიმე დააბრუნოს.\n"
      ]
    },
    {
      "cell_type": "code",
      "execution_count": null,
      "metadata": {
        "id": "_CenkUGeM7x5",
        "outputId": "591d45ca-dcfe-4102-f936-33aa7026eb50"
      },
      "outputs": [
        {
          "name": "stdout",
          "output_type": "stream",
          "text": [
            "\"fun0\" just prints\n"
          ]
        }
      ],
      "source": [
        "def fun0():\n",
        "    print(\"\\\"fun0\\\" just prints\")\n",
        "\n",
        "fun0()"
      ]
    },
    {
      "cell_type": "code",
      "execution_count": null,
      "metadata": {
        "id": "q4RQMhQlM7x6",
        "outputId": "13993ea0-90f8-42f4-cfad-f489784cba46"
      },
      "outputs": [
        {
          "name": "stdout",
          "output_type": "stream",
          "text": [
            "[1, 'iuoiu', True]  is of length  3\n"
          ]
        }
      ],
      "source": [
        "def fun1(l):\n",
        "    \"\"\"\n",
        "    Prints a list and its length\n",
        "    \"\"\"\n",
        "    print(l, \" is of length \", len(l))\n",
        "\n",
        "fun1([1,'iuoiu',True])"
      ]
    },
    {
      "cell_type": "code",
      "execution_count": null,
      "metadata": {
        "id": "pNzasbZpM7x6",
        "outputId": "768adfc5-843a-417b-91d9-2c0ada03d42a"
      },
      "outputs": [
        {
          "name": "stdout",
          "output_type": "stream",
          "text": [
            "Help on function fun1 in module __main__:\n",
            "\n",
            "fun1(l)\n",
            "    Prints a list and its length\n",
            "\n"
          ]
        }
      ],
      "source": [
        "help(fun1)"
      ]
    },
    {
      "cell_type": "markdown",
      "metadata": {
        "id": "SK4HATsiM7x6"
      },
      "source": [
        "## გამომავალი მონაცემები\n",
        "\n",
        "`return`-ის მეშვეობით, ფუნქციამ შეიძლება არა მხოლოდ შეასრულოს რაიმე ოპერაციები, არამედ დააბრუნოს მნიშვნელობაც."
      ]
    },
    {
      "cell_type": "code",
      "execution_count": null,
      "metadata": {
        "id": "HrQAfIwdM7x6",
        "outputId": "4999b814-8ace-4123-f32c-f6c3dc7ad69b"
      },
      "outputs": [
        {
          "name": "stdout",
          "output_type": "stream",
          "text": [
            "Help on function square in module __main__:\n",
            "\n",
            "square(x)\n",
            "    Return x squared.\n",
            "\n",
            "144\n"
          ]
        }
      ],
      "source": [
        "def square(x):\n",
        "    \"\"\"\n",
        "    Return x squared.\n",
        "    \"\"\"\n",
        "    return(x ** 2)\n",
        "\n",
        "help(square)\n",
        "res = square(12)\n",
        "print(res)"
      ]
    },
    {
      "cell_type": "code",
      "execution_count": null,
      "metadata": {
        "id": "3MS01rEaM7x6",
        "outputId": "f2aa9a89-08ab-47c7-89e3-8edf6f5e597f"
      },
      "outputs": [
        {
          "name": "stdout",
          "output_type": "stream",
          "text": [
            "Help on function powers in module __main__:\n",
            "\n",
            "powers(x)\n",
            "    Return the first powers of x.\n",
            "\n"
          ]
        }
      ],
      "source": [
        "def powers(x):\n",
        "    \"\"\"\n",
        "    Return the first powers of x.\n",
        "    \"\"\"\n",
        "    return(x ** 2, x ** 3, x ** 4)\n",
        "\n",
        "help(powers)"
      ]
    },
    {
      "cell_type": "code",
      "execution_count": null,
      "metadata": {
        "id": "Awr3hBmhM7x6",
        "outputId": "b6ff779a-0cf2-4528-ad6a-a6ee3038069a"
      },
      "outputs": [
        {
          "name": "stdout",
          "output_type": "stream",
          "text": [
            "(144, 1728, 20736) <class 'tuple'>\n"
          ]
        }
      ],
      "source": [
        "res = powers(12)\n",
        "print(res, type(res))"
      ]
    },
    {
      "cell_type": "code",
      "execution_count": null,
      "metadata": {
        "id": "e9GUE4VzM7x6",
        "outputId": "f7a85a7a-fa85-48e1-8d44-7b3be3dcaab5"
      },
      "outputs": [
        {
          "name": "stdout",
          "output_type": "stream",
          "text": [
            "27 <class 'int'>\n"
          ]
        }
      ],
      "source": [
        "two,three,four = powers(3)\n",
        "print(three,type(three))"
      ]
    },
    {
      "cell_type": "code",
      "execution_count": null,
      "metadata": {
        "id": "wSQAiiyMM7x7",
        "outputId": "e99eba8d-d3ec-4322-82b1-13dcef8c439e"
      },
      "outputs": [
        {
          "name": "stdout",
          "output_type": "stream",
          "text": [
            "{'two': 144, 'three': 1728, 'four': 20736} <class 'dict'>\n",
            "144 <class 'int'>\n"
          ]
        }
      ],
      "source": [
        "def powers_dict(x):\n",
        "    \"\"\"\n",
        "    Return the first powers of x as a dictionary.\n",
        "    \"\"\"\n",
        "    return{\"two\": x ** 2, \"three\": x ** 3,  \"four\": x ** 4}\n",
        "\n",
        "\n",
        "res = powers_dict(12)\n",
        "print(res, type(res))\n",
        "print(res[\"two\"],type(res[\"two\"]))"
      ]
    },
    {
      "cell_type": "markdown",
      "metadata": {
        "id": "3823Gjl3M7x7"
      },
      "source": [
        "## არგუმენტები\n",
        "\n",
        "შესაძლებელია, რომ:\n",
        "* არგუმენტები ფუნქციას იმ თანმიმდევრობით რა თანმდიდევრობითაც ის იღებს შესაბამის არგუმენტებს\n",
        "* შეგვიძლია ზოგ ცვლადს დავუსეტოთ default მნიშვნელობები, და ასევე გადაცემისას დავუზუსტოთ, თუ რომელ ცვლადს გადავცემთ"
      ]
    },
    {
      "cell_type": "code",
      "execution_count": null,
      "metadata": {
        "id": "tW9hl7FtM7x7"
      },
      "outputs": [],
      "source": [
        "def fancy_power(x, p=2, debug=False):\n",
        "    \"\"\"\n",
        "    Here is a fancy version of power that computes the square of the argument or other powers if p is set\n",
        "    \"\"\"\n",
        "    if debug:\n",
        "        print( \"\\\"fancy_power\\\" is called with x =\", x, \" and p =\", p)\n",
        "    return(x**p)"
      ]
    },
    {
      "cell_type": "code",
      "execution_count": null,
      "metadata": {
        "id": "HDZmolxAM7x7",
        "outputId": "c31ce209-2ae0-400e-b7cc-084986f4131b"
      },
      "outputs": [
        {
          "name": "stdout",
          "output_type": "stream",
          "text": [
            "25\n",
            "125\n"
          ]
        }
      ],
      "source": [
        "print(fancy_power(5))\n",
        "print(fancy_power(5,p=3))"
      ]
    },
    {
      "cell_type": "code",
      "execution_count": null,
      "metadata": {
        "id": "oDMDCM6DM7x7",
        "outputId": "7e7ed998-5f8e-4edd-d8fc-fe0ceca046b6"
      },
      "outputs": [
        {
          "name": "stdout",
          "output_type": "stream",
          "text": [
            "\"fancy_power\" is called with x = 2  and p = 8\n",
            "256\n"
          ]
        }
      ],
      "source": [
        "res = fancy_power(p=8,x=2,debug=True)\n",
        "print(res)"
      ]
    },
    {
      "cell_type": "markdown",
      "metadata": {
        "id": "QYPECkqlM7x7"
      },
      "source": [
        "# კლასები\n",
        "\n",
        "\n",
        "\n",
        "\n",
        "კლასები არის ობიექტზე ორიენტირებული პროგრამირების ფუნდამენტი. შესაბამისად, ისინი გამოიყენება ობიექტების აღსაწერად, შესაბამისი ატრიბუტებით და მეთოდებით.\n",
        "\n",
        "პითონში კლასები ფუნქციების მსგავსად აღიწერება, მაგრამ keyword \"class\"-ის გამოყენებით, რომელსაც მოყვება indentation, და, ჩვეულებრივ, კლასის შესაბამისი მეთოდების აღწერა.\n",
        "\n",
        "* თუ ამ კლასის ობიექტისთვის რაიმე მნიშვნელობის მინიჭება/მიმართვა გვინდა, ფუნქციის პირველი არგუმენტი უნდა იყოს `self`\n",
        "* ზოგ მეთოდს აქვს კონკრეტული მნიშვნელობა, მაგ:\n",
        "   * `__init__`: მეთოდი იძახება კლასის ობიექტის შექმნისას\n",
        "   * `__str__` : ეს მეთოდი გამოიძახება ობიექტის ტექსტური რეპრეზენტაციისთის\n",
        "   "
      ]
    },
    {
      "cell_type": "code",
      "execution_count": null,
      "metadata": {
        "id": "hIeDWiv-M7x7"
      },
      "outputs": [],
      "source": [
        "class Point(object):\n",
        "    \"\"\"\n",
        "    Class of a point in the 2D plane.\n",
        "    \"\"\"\n",
        "    def __init__(self, x=0.0, y=0.0):\n",
        "        \"\"\"\n",
        "        Creation of a new point at position (x, y).\n",
        "        \"\"\"\n",
        "        self.x = x\n",
        "        self.y = y\n",
        "\n",
        "    def translate(self, dx, dy):\n",
        "        \"\"\"\n",
        "        Translate the point by (dx , dy).\n",
        "        \"\"\"\n",
        "        self.x += dx\n",
        "        self.y += dy\n",
        "\n",
        "    def __str__(self):\n",
        "        return(\"Point: ({:.2f}, {:.2f})\".format(self.x, self.y))"
      ]
    },
    {
      "cell_type": "code",
      "execution_count": null,
      "metadata": {
        "id": "EoKaO_GOM7x7",
        "outputId": "1f60110a-5c93-4b6c-b619-8f39e05c39e8"
      },
      "outputs": [
        {
          "name": "stdout",
          "output_type": "stream",
          "text": [
            "Point: (0.00, 0.00)\n",
            "Point: (3.00, 2.00)\n",
            "Point: (1.20, 3.00)\n"
          ]
        }
      ],
      "source": [
        "p1 = Point()\n",
        "print(p1)\n",
        "\n",
        "p1.translate(3,2)\n",
        "print(p1)\n",
        "\n",
        "p2 = Point(1.2,3)\n",
        "print(p2)"
      ]
    },
    {
      "cell_type": "markdown",
      "metadata": {
        "id": "6WP0-Rz9M7x8"
      },
      "source": [
        "# ფაილების წაკითხვა/ჩაწერა\n",
        "\n",
        "'open' გვიბრუნებს ფაილს, და ძირითადად გამოიყენება ორი არგუმენტით 'open(filename, mode)'\n",
        "პირველი არგუმენტი, შესაბამისად, ფაილის სახელია, მეორე არგუმენტი კი ასევე სტრინგია, რომელიც რამდენიმე character-ის გამოყენებით აღწერს იმ მეთოდს, რომლითაც გვინდა რომ მივმართოთ ფაილს. მაგალითად :\n",
        "\n",
        "* 'r' როდესაც მხოლოდ წაკითხვა გვინდა\n",
        "* 'w' როდესაც მხოლოდ ჩაწერა გვინდა (თუ ამ სახელით ფაილი უკვე არსებობს, გადაეწერება)\n",
        "* 'a' ხსნის ფაილს და ამატებს ახალ დატას"
      ]
    },
    {
      "cell_type": "code",
      "execution_count": null,
      "metadata": {
        "id": "_SMRLW3FM7x8",
        "outputId": "46925931-d314-4353-b7d0-061dcc7798c7"
      },
      "outputs": [
        {
          "name": "stdout",
          "output_type": "stream",
          "text": [
            "<_io.TextIOWrapper name='./data/test.txt' mode='w' encoding='UTF-8'>\n"
          ]
        }
      ],
      "source": [
        "f = open('./data/test.txt', 'w')\n",
        "print(f)"
      ]
    },
    {
      "cell_type": "markdown",
      "metadata": {
        "id": "kyX27dWjM7x8"
      },
      "source": [
        "`f.write(string)` writes the contents of string to the file."
      ]
    },
    {
      "cell_type": "code",
      "execution_count": null,
      "metadata": {
        "id": "hHlZxvR2M7x8",
        "outputId": "7621c9c4-5168-4247-a9ff-02cf827b1e72"
      },
      "outputs": [
        {
          "data": {
            "text/plain": [
              "15"
            ]
          },
          "execution_count": 59,
          "metadata": {},
          "output_type": "execute_result"
        }
      ],
      "source": [
        "f.write(\"This is a test\\n\")"
      ]
    },
    {
      "cell_type": "code",
      "execution_count": null,
      "metadata": {
        "id": "3FOquQWNM7x8"
      },
      "outputs": [],
      "source": [
        "f.close()"
      ]
    },
    {
      "cell_type": "code",
      "execution_count": null,
      "metadata": {
        "id": "IM2zh1ufM7x8",
        "outputId": "86bb5a92-e89f-49f3-af0c-81ff1cee13d9"
      },
      "outputs": [
        {
          "data": {
            "text/plain": [
              "'This is an example file\\nMade specially for this course\\nThis is already the third line\\nLine 4\\nTHE END\\n'"
            ]
          },
          "execution_count": 61,
          "metadata": {},
          "output_type": "execute_result"
        }
      ],
      "source": [
        "f = open('./data/text.txt', 'r')\n",
        "f.read()"
      ]
    }
  ],
  "metadata": {
    "kernelspec": {
      "display_name": "Python 3",
      "language": "python",
      "name": "python3"
    },
    "language_info": {
      "codemirror_mode": {
        "name": "ipython",
        "version": 3
      },
      "file_extension": ".py",
      "mimetype": "text/x-python",
      "name": "python",
      "nbconvert_exporter": "python",
      "pygments_lexer": "ipython3",
      "version": "3.8.10"
    },
    "varInspector": {
      "cols": {
        "lenName": 16,
        "lenType": 16,
        "lenVar": 40
      },
      "kernels_config": {
        "python": {
          "delete_cmd_postfix": "",
          "delete_cmd_prefix": "del ",
          "library": "var_list.py",
          "varRefreshCmd": "print(var_dic_list())"
        },
        "r": {
          "delete_cmd_postfix": ") ",
          "delete_cmd_prefix": "rm(",
          "library": "var_list.r",
          "varRefreshCmd": "cat(var_dic_list()) "
        }
      },
      "types_to_exclude": [
        "module",
        "function",
        "builtin_function_or_method",
        "instance",
        "_Feature"
      ],
      "window_display": false
    },
    "colab": {
      "provenance": []
    }
  },
  "nbformat": 4,
  "nbformat_minor": 0
}