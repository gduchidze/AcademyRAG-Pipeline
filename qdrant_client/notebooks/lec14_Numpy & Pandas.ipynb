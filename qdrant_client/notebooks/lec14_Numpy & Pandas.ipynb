{
 "cells": [
  {
   "cell_type": "markdown",
   "id": "59da6bc6-87a8-4f0e-817c-14aa45db5b37",
   "metadata": {},
   "source": [
    "# ლექცია 1"
   ]
  },
  {
   "attachments": {},
   "cell_type": "markdown",
   "id": "ca24b7b8-9386-4242-bb7a-73b26d66e89f",
   "metadata": {},
   "source": [
    "# რატომ გვჭირდება მონაცემები & მონაცემთა შეგროვების მნიშვნელობა"
   ]
  },
  {
   "attachments": {},
   "cell_type": "markdown",
   "id": "f9c25f9d-c3f3-4d30-b34d-2b1ef13c7d38",
   "metadata": {},
   "source": [
    "# მონაცემთა დამუშავების ყველაზე პოპულარული ინსტრუმენტები დღეს DS/ML-ში"
   ]
  },
  {
   "cell_type": "markdown",
   "id": "a9d42602-4e32-42d0-80d8-5bafa7aa8f39",
   "metadata": {},
   "source": [
    "![Alt text](imgs/data_has_better_idea_slide_02.png)"
   ]
  },
  {
   "cell_type": "markdown",
   "id": "1d790538-09ae-4e33-bcaf-08c9097c1933",
   "metadata": {},
   "source": [
    "# მონაცემთა დამუშავება და მანიპულირება სხბადასხვა ინსტრუმენტებით: NumPy, Pandas, Huggingface Dataset, API-ები.\n",
    "\n",
    "## ლექციის მიზნები\n",
    "- გავეცნოთ NumPy-ისა და Pandas-ის გამოყენებით მონაცემთა დამუშავების მეთოდებს.\n",
    "- ვისწავლოთ როგორ გამოვიყენოთ Huggingface Datasets მონაცემთა მანიპულირებისთვის.\n",
    "- გავეცნოთ თუ როგორ შეიძლება API-ების გამოყენებით მონაცემების მოგროვება.\n"
   ]
  },
  {
   "cell_type": "markdown",
   "id": "63951687-758d-41bf-8bcf-4d627bbdf876",
   "metadata": {},
   "source": [
    "<!-- ![Alt text](imgs/finallpandas_.png) -->"
   ]
  },
  {
   "cell_type": "markdown",
   "id": "24a89db0-85ac-46a7-a6e9-2a4c36c18251",
   "metadata": {},
   "source": [
    "# შესავალი\n",
    "\n",
    "მონაცემთა დამუშავება და მანიპულირება კრიტიკულად მნიშვნელოვანია უნარებია მონაცემთა მეცნიერებასა და მანქანურ სწავლებაში. ამ ლექციაში ჩვენ გავეცნობით NumPy-ს, Pandas-სს, Huggingface Datasets-ს და API-ებს და გავეცნობით მათ ყველაზე ხშირად გამოყენებად ფუნქციონალს."
   ]
  },
  {
   "cell_type": "markdown",
   "id": "997e3e8f",
   "metadata": {},
   "source": [
    "## Numpy"
   ]
  },
  {
   "cell_type": "markdown",
   "id": "68a61dd6-093b-4f73-8a75-a918aef74e08",
   "metadata": {},
   "source": [
    "### NumPy -  შესავალი\n",
    "\n",
    "NumPy (\"Numberical Python\" - რიცხვითი პითონი) არის Python-ის ბიბლიოთეკა, რომელიც გამოიყენება მრავალგანზომილებიან მასივებსა (arrays) და მატრიცებთან სამუშაოდ.\n",
    "\n",
    "NumPy-ის ძირითადი ობიექტია ndarray (n-განზომილებიანი მასივი), რომელიც წარმოადგენს მსგავსი ტიპის ელემენტების მრავალგანზომილებიან ცხრილს. NumPy მასივები უფრო ეფექტურია და მოქნილია, ვიდრე Python-ის ჩაშენებული სიები (lists).\n",
    "<!-- \n",
    "NumPy გვთავაზობს ინსტრუმენტებს მასივებზე სწრაფი და ეფექტური ოპერაციების შესასრულებლად, როგორიცაა მათემატიკური, ლოგიკური, ფორმის მანიპულაციის, დახარისხების, შერჩევის, I/O, დისკრეტული ფურიეს გარდაქმნების და სხვა მრავალი ოპერაცია.\n",
    " -->\n",
    "NumPy ფართოდ გამოიყენება მონაცემთა ანალიზში, მანქანურ სწავლებასა და ხელოვნურ ინტელექტში. წარმოადგენს SciPy სტეკის ფუნდამენტურ პაკეტს - მისი ფუნქციონალი გამოიყენება მრავალ სხვა Python ბიბლიოთეკაში, როგორიცაა Pandas, Matplotlib და Scikit-learn."
   ]
  },
  {
   "cell_type": "markdown",
   "id": "996bfada-540c-4140-9755-acd345de6f34",
   "metadata": {},
   "source": [
    "![Alt text](imgs/what-is-numpy.png)"
   ]
  },
  {
   "cell_type": "code",
   "execution_count": 1,
   "id": "94a766bd-9bea-40d5-ba16-18e1fdd77111",
   "metadata": {},
   "outputs": [],
   "source": [
    "# NumPy-ის ინსტალაცია (მოაცილეთ # ქვემოთ და გაუშვით კოდი თუ უკვე დაინსტალირებული არ გაქვთ\n",
    "# !pip install numpy\n",
    "\n",
    "# დავაიმპორტოთ ბიბლიოთეკა\n",
    "import numpy as np"
   ]
  },
  {
   "cell_type": "markdown",
   "id": "d18edc33-776e-4f94-b650-10eba78f1ffb",
   "metadata": {},
   "source": [
    "### მასივის შექმნა\n",
    "მასივის შექმნა სხვადასხვა ფუნქციების გამოყენებით არის შესაძლებელი; მაგალითად, შეგვიძლია გამოვიყენოთ `np.array()`, `np.zeros()`, `np.ones()`, `np.arange()` და `np.linspace()`.\n"
   ]
  },
  {
   "cell_type": "code",
   "execution_count": 6,
   "id": "80a5d7db-09ed-40bc-affe-703fe4c670eb",
   "metadata": {},
   "outputs": [
    {
     "name": "stdout",
     "output_type": "stream",
     "text": [
      "მასივი: [1 2 3 4 5]\n",
      "სიის ტიპი: <class 'list'>\n",
      "მასივის ტიპი: <class 'numpy.ndarray'>\n"
     ]
    }
   ],
   "source": [
    "# შევქმნათ მასივი სიიდან\n",
    "import numpy as np\n",
    "base_list = [1, 2, 3, 4, 5]\n",
    "arr = np.array(base_list)\n",
    "print(\"მასივი:\", arr)\n",
    "print(f\"სიის ტიპი: {type(base_list)}\")\n",
    "print(f\"მასივის ტიპი: {type(arr)}\")"
   ]
  },
  {
   "cell_type": "code",
   "execution_count": 8,
   "id": "0b5ff5f3-6279-4332-b03a-240f14ba3bdb",
   "metadata": {},
   "outputs": [
    {
     "name": "stdout",
     "output_type": "stream",
     "text": [
      "ნულოვანი მასივი:\n",
      " [[0. 0. 0. 0.]\n",
      " [0. 0. 0. 0.]\n",
      " [0. 0. 0. 0.]]\n"
     ]
    }
   ],
   "source": [
    "# ნულოვანი მასივის შექმნა\n",
    "zeros_arr = np.zeros((3, 4)) # (სტრიქონების რაოდენობა, სვეტების რაოდენობა)\n",
    "print(\"ნულოვანი მასივი:\\n\", zeros_arr)"
   ]
  },
  {
   "cell_type": "code",
   "execution_count": 9,
   "id": "ab8e4251-dcf3-4cfb-8a8d-59dd92f5c876",
   "metadata": {},
   "outputs": [
    {
     "name": "stdout",
     "output_type": "stream",
     "text": [
      "ერთეულოვანი მასივი:\n",
      " [[1. 1. 1. 1.]\n",
      " [1. 1. 1. 1.]]\n"
     ]
    }
   ],
   "source": [
    "# ერთეულოვანი მასივის შექმნა\n",
    "ones_arr = np.ones((2, 4)) # (სტრიქონების რაოდენობა, სვეტების რაოდენობა)\n",
    "print(\"ერთეულოვანი მასივი:\\n\", ones_arr)"
   ]
  },
  {
   "cell_type": "code",
   "execution_count": 11,
   "id": "9dc90860-f36f-4fdc-ac4a-2405dcf1dfe9",
   "metadata": {},
   "outputs": [
    {
     "name": "stdout",
     "output_type": "stream",
     "text": [
      "[0 2 4 6 8]\n"
     ]
    }
   ],
   "source": [
    "# მასივის შექმნა დიაპაზონით\n",
    "range_arr = np.arange(0, 10, 2) # (საწყისი ელემენტი, საბოლოო ელემენტი, ნამატი)\n",
    "print(range_arr)"
   ]
  },
  {
   "cell_type": "code",
   "execution_count": 12,
   "id": "8f7bd0ef-070f-470f-a982-4ebbe8212d96",
   "metadata": {},
   "outputs": [
    {
     "name": "stdout",
     "output_type": "stream",
     "text": [
      "[0.   0.25 0.5  0.75 1.  ]\n"
     ]
    }
   ],
   "source": [
    "# მასივის შექმნა წრფივად დაშორებული მნიშვნელობებით\n",
    "linspace_arr = np.linspace(0, 1, 5) # (საწყისი ელემენტი, საბოლოო ელემენტი, ნამატი)\n",
    "print(linspace_arr)"
   ]
  },
  {
   "cell_type": "markdown",
   "id": "88b00503-66e7-412f-8362-fd875c95bd44",
   "metadata": {},
   "source": [
    "### Array Operations\n",
    "NumPy საშუალებით შეგვიძლია მასივებზე შევასრულოთ ელემენტარული ოპერაციები; მაგალითად: შეკრება, გამოკლება, გამრავლება და გაყოფა.\n"
   ]
  },
  {
   "cell_type": "code",
   "execution_count": 13,
   "id": "9546a3fb-505f-4576-8f1a-6ac2a2db7de7",
   "metadata": {},
   "outputs": [
    {
     "name": "stdout",
     "output_type": "stream",
     "text": [
      "ხაწყისი მასივი: [1 2 3 4 5]\n",
      "მასივი 2-ზე გამრავლების შემდეგ: [ 2  4  6  8 10]\n"
     ]
    }
   ],
   "source": [
    "# ელემენტარული ოპერაციები\n",
    "arr = np.array([1, 2, 3, 4, 5])\n",
    "arr2 = arr * 2\n",
    "print(\"ხაწყისი მასივი:\", arr)\n",
    "print(\"მასივი 2-ზე გამრავლების შემდეგ:\", arr2)"
   ]
  },
  {
   "cell_type": "code",
   "execution_count": 14,
   "id": "08000d23-03ec-4780-9328-fc7b0366d8e1",
   "metadata": {},
   "outputs": [
    {
     "name": "stdout",
     "output_type": "stream",
     "text": [
      "Sum of Arrays: [ 3  6  9 12 15]\n"
     ]
    }
   ],
   "source": [
    "# მასივების შეკრება\n",
    "arr3 = arr + arr2\n",
    "print(\"მასივების ჯამი:\", arr3)"
   ]
  },
  {
   "cell_type": "code",
   "execution_count": 14,
   "id": "429fcb16-249a-4752-93b2-d00c8a05fac6",
   "metadata": {},
   "outputs": [
    {
     "name": "stdout",
     "output_type": "stream",
     "text": [
      "მასივების სხვაობა: [1 2 3 4 5]\n",
      "მატრიცების შეფარდება [2. 2. 2. 2. 2.]\n"
     ]
    }
   ],
   "source": [
    "# სხვა ოპერაციები\n",
    "print(\"მასივების სხვაობა:\", arr2 - arr)\n",
    "print(\"მატრიცების შეფარდება\", arr2 / arr)"
   ]
  },
  {
   "cell_type": "markdown",
   "id": "243ad0bb-3f74-4d7e-b76d-5c7a7181c0fa",
   "metadata": {},
   "source": [
    "### მათემატიკური ფუნქციები\n",
    "NumPy გვაწვდის მრავალ მათემატიკურ ფუნქციას ისეთი ოპერაციების შესასრულებლად, როგორიცაა საშუალო არითმეტიკული, სტანდარტული გადახრა, ჯამი, სკალარული ნამრავლი და ა.შ."
   ]
  },
  {
   "cell_type": "code",
   "execution_count": 16,
   "id": "373afe6d-047d-4fd9-b936-3cc62e9077b0",
   "metadata": {},
   "outputs": [
    {
     "name": "stdout",
     "output_type": "stream",
     "text": [
      "საშუალო: 3.0\n",
      "ტანდარტული გადახრა: 1.4142135623730951\n",
      "ჯამი: 15\n",
      "სკალარული ნამრავლი: 130\n"
     ]
    }
   ],
   "source": [
    "# გავამზადოთ მასივი მათემატიკური ოპერაციების საჩვენებლად\n",
    "arr = np.array([1, 2, 3, 4, 5])\n",
    "\n",
    "# საშუალო\n",
    "print(\"საშუალო:\", np.mean(arr))\n",
    "\n",
    "# სტანდარტული გადახრა\n",
    "print(\"ტანდარტული გადახრა:\", np.std(arr))\n",
    "\n",
    "# ჯამი\n",
    "print(\"ჯამი:\", np.sum(arr))\n",
    "\n",
    "# სკალარული ნამრავლი\n",
    "arr2 = np.array([6, 7, 8, 9, 10])\n",
    "print(\"სკალარული ნამრავლი:\", np.dot(arr, arr2))"
   ]
  },
  {
   "cell_type": "markdown",
   "id": "952d776b-ad1f-4884-ab06-8938c17ab798",
   "metadata": {},
   "source": [
    "NumPy-ის Broadcasting და Vectorization წარმოადგენს მძლავრ ინსტრუმენტებს მასივებზე ოპერაციების ეფექტურად შესასრულებლად. ეს ფუნქციონალი საშუალებას გვაძლევს გავამარტივოთ კოდი და მნიშვნელოვნად გავზარდოთ მისი შესრულების სიჩქარე.\n",
    "\n",
    "Broadcasting საშუალებას გვაძლევს შევასრულოთ არითმეტიკული ოპერაციები განსხვავებული ზომის მასივებს შორის, იმ პირობით, რომ დაცულია გარკვეული წესები:\n",
    "\n",
    "* მასივებს უნდა ჰქონდეთ ერთნაირი განზომილება, ან ერთ-ერთი მასივის განზომილება უნდა იყოს 1\n",
    "* თითოეული განზომილების ზომა უნდა იყოს ან ერთნაირი, ან ერთ-ერთი უნდა იყოს 1\n",
    "* თუ მასივებს აქვთ განსხვავებული რანგი, დაბალი რანგის მასივი ვრცელდება მაღალი რანგის მასივის ფორმაზე\n",
    "\n",
    "Vectorization გვეხმარება შევასრულოთ ოპერაციები მთლიან მასივებზე ერთდროულად, ნაცვლად იტერაციული მიდგომისა:\n",
    "\n",
    "* ამცირებს კოდის სირთულეს და აუმჯობესებს მის წაკითხვადობას\n",
    "* მნიშვნელოვნად აჩქარებს გამოთვლებს\n",
    "* ოპტიმიზირებულია მეხსიერების გამოყენების თვალსაზრისით"
   ]
  },
  {
   "cell_type": "code",
   "execution_count": 17,
   "id": "ee67046f-4c69-4a6d-8975-68f4304fdc19",
   "metadata": {},
   "outputs": [
    {
     "name": "stdout",
     "output_type": "stream",
     "text": [
      "\n",
      "მატრიცა * სკალარი:\n",
      "[[ 2  4  6]\n",
      " [ 8 10 12]]\n",
      "\n",
      "მატრიცა + ვექტორი:\n",
      "[[11 22 33]\n",
      " [14 25 36]]\n",
      "\n",
      "ვექტორული ნამრავლი:\n",
      "[ 6 14 24 36 50]\n",
      "\n",
      "სტატისტიკური მაჩვენებლები:\n",
      "საშუალო: 3.00\n",
      "სტანდარტული გადახრა: 1.41\n",
      "\n",
      "ტრიგონომეტრიული და ექსპონენციალური ფუნქციები:\n",
      "სინუსი:\n",
      "[ 0.841  0.909  0.141 -0.757 -0.959]\n",
      "ექსპონენტა:\n",
      "[  2.718   7.389  20.086  54.598 148.413]\n",
      "\n",
      "ფილტრაცია (3-ზე მეტი ელემენტები):\n",
      "[4 5]\n"
     ]
    }
   ],
   "source": [
    "# Broadcasting მაგალითები\n",
    "arr1 = np.array([[1, 2, 3],\n",
    "                [4, 5, 6]])\n",
    "                \n",
    "# მატრიცა სკალარზე\n",
    "result1 = arr1 * 2\n",
    "print(\"\\nმატრიცა * სკალარი:\")\n",
    "print(result1)\n",
    "\n",
    "# მატრიცა ვექტორზე\n",
    "vector = np.array([10, 20, 30])\n",
    "result2 = arr1 + vector  \n",
    "print(\"\\nმატრიცა + ვექტორი:\")\n",
    "print(result2)\n",
    "\n",
    "# Vectorization მაგალითები\n",
    "arr2 = np.array([1, 2, 3, 4, 5])\n",
    "arr3 = np.array([6, 7, 8, 9, 10])\n",
    "\n",
    "# ვექტორული ოპერაციები\n",
    "vector_prod = arr2 * arr3  \n",
    "print(\"\\nვექტორული ნამრავლი:\")\n",
    "print(vector_prod)\n",
    "\n",
    "# სტატისტიკური ოპერაციები\n",
    "mean_val = np.mean(arr2)\n",
    "std_val = np.std(arr2)\n",
    "print(\"\\nსტატისტიკური მაჩვენებლები:\")\n",
    "print(f\"საშუალო: {mean_val:.2f}\")\n",
    "print(f\"სტანდარტული გადახრა: {std_val:.2f}\")\n",
    "\n",
    "# მათემატიკური ფუნქციები\n",
    "sin_values = np.sin(arr2)\n",
    "exp_values = np.exp(arr2)\n",
    "print(\"\\nტრიგონომეტრიული და ექსპონენციალური ფუნქციები:\")\n",
    "print(\"სინუსი:\")\n",
    "print(np.round(sin_values, 3))\n",
    "print(\"ექსპონენტა:\")\n",
    "print(np.round(exp_values, 3))\n",
    "\n",
    "# ლოგიკური ოპერაციები\n",
    "mask = arr2 > 3\n",
    "filtered = arr2[mask]\n",
    "print(\"\\nფილტრაცია (3-ზე მეტი ელემენტები):\")\n",
    "print(filtered)"
   ]
  },
  {
   "cell_type": "markdown",
   "id": "66d0c440-6ab8-4278-8ec4-b8208845ffd6",
   "metadata": {},
   "source": [
    "### Pandas - შესავალი\n",
    "Pandas არის Python-ის ბიბლიოთეკა, რომელიც გამოიყენება მონაცემთა ანალიზისა და მანიპულაციისთვის. იგი უზრუნველყოფს მაღალი დონის მონაცემთა სტრუქტურებს და ინსტრუმენტებს, რაც აადვილებს მონაცემებთან მუშაობას.\n",
    "Pandas-ის ძირითადი მონაცემთა სტრუქტურებია:\n",
    "\n",
    "pd.Series: ერთგანზომილებიანი მასივი, რომელიც შეიძლება შეიცავდეს სხვადასხვა ტიპის მონაცემებს, როგორიცაა რიცხვები, სტრიქონები და ა.შ.\n",
    "pd.DataFrame: ორგანზომილებიანი მონაცემთა სტრუქტურა, რომელიც წარმოადგენს ცხრილის მსგავს მონაცემთა ნაკრებს. იგი შედგება სვეტებისა და სტრიქონებისგან, სადაც თითოეული სვეტი შეიძლება იყოს სხვადასხვა ტიპის.\n",
    "\n",
    "Pandas-ის გამოყენებით შესაძლებელია:\n",
    "\n",
    "* მონაცემთა წაკითხვა და ჩაწერა სხვადასხვა ფორმატში (CSV, Excel, SQL, Parquet და ა.შ.)\n",
    "* მონაცემთა გაფილტვრა, დახარისხება და აგრეგაცია\n",
    "* მონაცემთა გარდაქმნა და კომბინირება\n",
    "* მონაცემთა ვიზუალიზაცია\n",
    "* დროითი მწკრივების (time series) დამუშავება\n",
    "\n",
    "Pandas ფართოდ გამოიყენება მონაცემთა მეცნიერებაში, ფინანსურ ანალიზში, სტატისტიკურ მოდელირებასა და სხვა სფეროებში, სადაც საჭიროა მონაცემების დამუშავება და ანალიზი. იგი მჭიდროდ არის ინტეგრირებული Python-ის სხვა პოპულარულ ბიბლიოთეკებთან, როგორიცაა NumPy და Matplotlib."
   ]
  },
  {
   "cell_type": "markdown",
   "id": "eeae9bfd-929c-4113-b8ec-45d2a163c332",
   "metadata": {},
   "source": [
    "![Alt text](imgs/__.png)"
   ]
  },
  {
   "cell_type": "code",
   "execution_count": 1,
   "id": "443ab731-2384-41d7-83ad-4f74ac821edc",
   "metadata": {},
   "outputs": [],
   "source": [
    "# # Pandas-ის ინსტალაცია (მოაცილეთ # ქვემოთ და გაუშვით კოდი თუ უკვე დაინსტალირებული არ გაქვთ)\n",
    "# !pip install pandas\n",
    "\n",
    "# დავაიმპორტოთ ბიბლიოთეკა\n",
    "import pandas as pd"
   ]
  },
  {
   "cell_type": "markdown",
   "id": "62357224",
   "metadata": {},
   "source": [
    "## Pandas"
   ]
  },
  {
   "cell_type": "markdown",
   "id": "45548197-8e2c-4614-9fd8-85672a53f659",
   "metadata": {},
   "source": [
    "### DataFrame-ის შექმნა\n",
    "DataFrame-ის შექმნა Pandas-ში შესაძლებელია სხვადასხვა მეთოდით. ეს მნიშვნელოვანი ფუნქციონალი გვეხმარება მონაცემთა სხვადასხვა წყაროებთან მუშაობაში:\n",
    "\n",
    "* `pd.DataFrame()` - შექმნა Python-ის მონაცემთა სტრუქტურებიდან (dict, list)\n",
    "* `pd.read_csv()` - CSV ფაილების წაკითხვა\n",
    "* `pd.read_excel()` - Excel ფაილების წაკითხვა\n",
    "* `pd.read_sql()` - SQL მონაცემთა ბაზიდან წაკითხვა"
   ]
  },
  {
   "cell_type": "code",
   "execution_count": 2,
   "id": "8e14fa54-0ec9-4ff9-9530-30e81dfd5113",
   "metadata": {},
   "outputs": [
    {
     "name": "stdout",
     "output_type": "stream",
     "text": [
      "DataFrame:\n",
      "       Name  Age\n",
      "0    Alice   25\n",
      "1      Bob   30\n",
      "2  Charlie   35\n"
     ]
    }
   ],
   "source": [
    "# შევქმნათ DataFrame ლექსიკონიდამ\n",
    "data = {'Name': ['Alice', 'Bob', 'Charlie'], 'Age': [25, 30, 35]}\n",
    "df = pd.DataFrame(data)\n",
    "print(\"DataFrame:\\n\", df)\n",
    "\n",
    "# # csv ფაილიდან DataFrame-ის შექმნა შეგვიძლია შემდეგნაირად:\n",
    "# df_csv = pd.read_csv('data.csv') # არგუმენტად იღებს ფაილის მისამართს\n",
    "# # ექსელის ფაილიდან DataFrame-ის შექმნა შეგვიძლია შემდეგნაირად:\n",
    "# df_excel = pd.read_excel('data.csv') # არგუმენტად იღებს ფაილის მისამართს; შეიძლება დაგჭირდეთ !pip install openpyxl გაშვება"
   ]
  },
  {
   "cell_type": "markdown",
   "id": "0be15251-9842-438a-916c-7ff36e7b8575",
   "metadata": {},
   "source": [
    "### მონაცემთა მონიშვნა/გაფილტვრა\n",
    "მონაცემთა მონიშვნა და გაფილტვრა Pandas-ში შესაძლებელია სხვადასხვა მეთოდით; ხშირად გამოიყენება `.loc[]` და `.iloc[]`:\n",
    "\n",
    "* `.loc[]` - მონიშვნა ინდექსის სახელებით (label-based)\n",
    "* `.iloc[]` - მონიშვნა პოზიციის მიხედვით (integer-based)"
   ]
  },
  {
   "cell_type": "markdown",
   "id": "55b46107-d3d2-4f45-a156-147041bb157a",
   "metadata": {},
   "source": [
    "#### .loc[] მეთოდის მიმოხილვა"
   ]
  },
  {
   "cell_type": "markdown",
   "id": "7ed4b3dc-cd7c-4ec7-8768-fc9d19055895",
   "metadata": {},
   "source": [
    ".loc[] მეთოდი პანდაებში გამოიყენება ეტიკეტზე დაფუძნებული ინდექსაციისა და შერჩევისთვის. ეს მეთოდი საშუალებას გაძლევთ აირჩიოთ რიგები და სვეტები მწკრივისა და სვეტის ეტიკეტების მითითებით.\n",
    "\n",
    "ძირითადი პუნქტები:\n",
    "\n",
    "* ლეიბლზე დაფუძნებული ინდექსირება: თქვენ შეგიძლიათ გამოიყენოთ მწკრივების და სვეტების რეალური ეტიკეტები მონაცემების წვდომისთვის.\n",
    "* მოქნილი შერჩევა: შეგიძლიათ აირჩიოთ მთელი რიგები, სვეტები ან კონკრეტული ელემენტები.\n",
    "* ლოგიკური ინდექსირება: შეგიძლიათ გამოიყენოთ პირობები მონაცემების გასაფილტრად.\n",
    "\n",
    "სინტაქსი: DataFrame.loc[სტრიქონების_სახელები, სვეტების_სახელები]\n"
   ]
  },
  {
   "cell_type": "code",
   "execution_count": 3,
   "id": "9e83a25f-d568-45e9-a8c9-219338eec620",
   "metadata": {},
   "outputs": [
    {
     "data": {
      "text/html": [
       "<div>\n",
       "<style scoped>\n",
       "    .dataframe tbody tr th:only-of-type {\n",
       "        vertical-align: middle;\n",
       "    }\n",
       "\n",
       "    .dataframe tbody tr th {\n",
       "        vertical-align: top;\n",
       "    }\n",
       "\n",
       "    .dataframe thead th {\n",
       "        text-align: right;\n",
       "    }\n",
       "</style>\n",
       "<table border=\"1\" class=\"dataframe\">\n",
       "  <thead>\n",
       "    <tr style=\"text-align: right;\">\n",
       "      <th></th>\n",
       "      <th>სახელი</th>\n",
       "      <th>ასაკი</th>\n",
       "      <th>ქალაქი</th>\n",
       "      <th>ქულა</th>\n",
       "    </tr>\n",
       "  </thead>\n",
       "  <tbody>\n",
       "    <tr>\n",
       "      <th>0</th>\n",
       "      <td>გიორგი</td>\n",
       "      <td>24</td>\n",
       "      <td>თბილისი</td>\n",
       "      <td>88</td>\n",
       "    </tr>\n",
       "    <tr>\n",
       "      <th>1</th>\n",
       "      <td>ბობი</td>\n",
       "      <td>27</td>\n",
       "      <td>ჩიკაგო</td>\n",
       "      <td>92</td>\n",
       "    </tr>\n",
       "    <tr>\n",
       "      <th>2</th>\n",
       "      <td>ჩარლი</td>\n",
       "      <td>22</td>\n",
       "      <td>ნიუ-იორკი</td>\n",
       "      <td>95</td>\n",
       "    </tr>\n",
       "    <tr>\n",
       "      <th>3</th>\n",
       "      <td>დავითი</td>\n",
       "      <td>32</td>\n",
       "      <td>ჰიუსტონი</td>\n",
       "      <td>70</td>\n",
       "    </tr>\n",
       "    <tr>\n",
       "      <th>4</th>\n",
       "      <td>ნიკა</td>\n",
       "      <td>29</td>\n",
       "      <td>ფენიქსი</td>\n",
       "      <td>85</td>\n",
       "    </tr>\n",
       "  </tbody>\n",
       "</table>\n",
       "</div>"
      ],
      "text/plain": [
       "   სახელი  ასაკი     ქალაქი  ქულა\n",
       "0  გიორგი     24    თბილისი    88\n",
       "1    ბობი     27     ჩიკაგო    92\n",
       "2   ჩარლი     22  ნიუ-იორკი    95\n",
       "3  დავითი     32   ჰიუსტონი    70\n",
       "4    ნიკა     29    ფენიქსი    85"
      ]
     },
     "execution_count": 3,
     "metadata": {},
     "output_type": "execute_result"
    }
   ],
   "source": [
    "import pandas as pd\n",
    "\n",
    "# შევქმნათ მარტივი DataFrame\n",
    "data = {\n",
    "    'სახელი': ['გიორგი', 'ბობი', 'ჩარლი', 'დავითი', 'ნიკა'],\n",
    "    'ასაკი': [24, 27, 22, 32, 29],\n",
    "    'ქალაქი': ['თბილისი', 'ჩიკაგო', 'ნიუ-იორკი', 'ჰიუსტონი', 'ფენიქსი'],\n",
    "    'ქულა': [88, 92, 95, 70, 85]\n",
    "}\n",
    "df = pd.DataFrame(data)\n",
    "df"
   ]
  },
  {
   "cell_type": "code",
   "execution_count": 10,
   "id": "4733e98f-1805-40db-be0b-1495a05b96eb",
   "metadata": {},
   "outputs": [
    {
     "name": "stdout",
     "output_type": "stream",
     "text": [
      "სვეტების მონიშვნა (სახელი, ასაკი):\n"
     ]
    },
    {
     "data": {
      "text/html": [
       "<div>\n",
       "<style scoped>\n",
       "    .dataframe tbody tr th:only-of-type {\n",
       "        vertical-align: middle;\n",
       "    }\n",
       "\n",
       "    .dataframe tbody tr th {\n",
       "        vertical-align: top;\n",
       "    }\n",
       "\n",
       "    .dataframe thead th {\n",
       "        text-align: right;\n",
       "    }\n",
       "</style>\n",
       "<table border=\"1\" class=\"dataframe\">\n",
       "  <thead>\n",
       "    <tr style=\"text-align: right;\">\n",
       "      <th></th>\n",
       "      <th>სახელი</th>\n",
       "      <th>ასაკი</th>\n",
       "    </tr>\n",
       "  </thead>\n",
       "  <tbody>\n",
       "    <tr>\n",
       "      <th>0</th>\n",
       "      <td>გიორგი</td>\n",
       "      <td>24</td>\n",
       "    </tr>\n",
       "    <tr>\n",
       "      <th>1</th>\n",
       "      <td>ბობი</td>\n",
       "      <td>27</td>\n",
       "    </tr>\n",
       "    <tr>\n",
       "      <th>2</th>\n",
       "      <td>ჩარლი</td>\n",
       "      <td>22</td>\n",
       "    </tr>\n",
       "    <tr>\n",
       "      <th>3</th>\n",
       "      <td>დავითი</td>\n",
       "      <td>32</td>\n",
       "    </tr>\n",
       "    <tr>\n",
       "      <th>4</th>\n",
       "      <td>ნიკა</td>\n",
       "      <td>29</td>\n",
       "    </tr>\n",
       "  </tbody>\n",
       "</table>\n",
       "</div>"
      ],
      "text/plain": [
       "   სახელი  ასაკი\n",
       "0  გიორგი     24\n",
       "1    ბობი     27\n",
       "2   ჩარლი     22\n",
       "3  დავითი     32\n",
       "4    ნიკა     29"
      ]
     },
     "execution_count": 10,
     "metadata": {},
     "output_type": "execute_result"
    }
   ],
   "source": [
    "# მონიშნე ყველა სტრიქონი კონკრეტულ სვეტებში\n",
    "selected_columns = df.loc[:, ['სახელი', 'ასაკი']]\n",
    "print(\"სვეტების მონიშვნა (სახელი, ასაკი):\")\n",
    "selected_columns"
   ]
  },
  {
   "cell_type": "code",
   "execution_count": 9,
   "id": "13f0c36d-99ca-4d88-8755-78cdac55e44e",
   "metadata": {},
   "outputs": [
    {
     "name": "stdout",
     "output_type": "stream",
     "text": [
      "\n",
      "სტრიქონების მონიშვნა (ასაკი > 25):\n"
     ]
    },
    {
     "data": {
      "text/html": [
       "<div>\n",
       "<style scoped>\n",
       "    .dataframe tbody tr th:only-of-type {\n",
       "        vertical-align: middle;\n",
       "    }\n",
       "\n",
       "    .dataframe tbody tr th {\n",
       "        vertical-align: top;\n",
       "    }\n",
       "\n",
       "    .dataframe thead th {\n",
       "        text-align: right;\n",
       "    }\n",
       "</style>\n",
       "<table border=\"1\" class=\"dataframe\">\n",
       "  <thead>\n",
       "    <tr style=\"text-align: right;\">\n",
       "      <th></th>\n",
       "      <th>სახელი</th>\n",
       "      <th>ასაკი</th>\n",
       "      <th>ქალაქი</th>\n",
       "      <th>ქულა</th>\n",
       "    </tr>\n",
       "  </thead>\n",
       "  <tbody>\n",
       "    <tr>\n",
       "      <th>1</th>\n",
       "      <td>ბობი</td>\n",
       "      <td>27</td>\n",
       "      <td>ჩიკაგო</td>\n",
       "      <td>92</td>\n",
       "    </tr>\n",
       "    <tr>\n",
       "      <th>3</th>\n",
       "      <td>დავითი</td>\n",
       "      <td>32</td>\n",
       "      <td>ჰიუსტონი</td>\n",
       "      <td>70</td>\n",
       "    </tr>\n",
       "    <tr>\n",
       "      <th>4</th>\n",
       "      <td>ნიკა</td>\n",
       "      <td>29</td>\n",
       "      <td>ფენიქსი</td>\n",
       "      <td>85</td>\n",
       "    </tr>\n",
       "  </tbody>\n",
       "</table>\n",
       "</div>"
      ],
      "text/plain": [
       "   სახელი  ასაკი    ქალაქი  ქულა\n",
       "1    ბობი     27    ჩიკაგო    92\n",
       "3  დავითი     32  ჰიუსტონი    70\n",
       "4    ნიკა     29   ფენიქსი    85"
      ]
     },
     "execution_count": 9,
     "metadata": {},
     "output_type": "execute_result"
    }
   ],
   "source": [
    "# მოვნიშნოთ სტრიქონების რომლებშიც ასაკი 25 წელზე მეტია\n",
    "filtered_rows = df.loc[df['ასაკი'] > 25]\n",
    "print(\"\\nსტრიქონების მონიშვნა (ასაკი > 25):\")\n",
    "filtered_rows"
   ]
  },
  {
   "cell_type": "code",
   "execution_count": 11,
   "id": "a17d39c1-a86c-4094-abb1-6b1f889c128a",
   "metadata": {},
   "outputs": [
    {
     "name": "stdout",
     "output_type": "stream",
     "text": [
      "\n",
      "კონკრეტული სტრიქონების & სვეტების მონიშნა:\n"
     ]
    },
    {
     "data": {
      "text/html": [
       "<div>\n",
       "<style scoped>\n",
       "    .dataframe tbody tr th:only-of-type {\n",
       "        vertical-align: middle;\n",
       "    }\n",
       "\n",
       "    .dataframe tbody tr th {\n",
       "        vertical-align: top;\n",
       "    }\n",
       "\n",
       "    .dataframe thead th {\n",
       "        text-align: right;\n",
       "    }\n",
       "</style>\n",
       "<table border=\"1\" class=\"dataframe\">\n",
       "  <thead>\n",
       "    <tr style=\"text-align: right;\">\n",
       "      <th></th>\n",
       "      <th>სახელი</th>\n",
       "      <th>ქულა</th>\n",
       "    </tr>\n",
       "  </thead>\n",
       "  <tbody>\n",
       "    <tr>\n",
       "      <th>1</th>\n",
       "      <td>ბობი</td>\n",
       "      <td>92</td>\n",
       "    </tr>\n",
       "    <tr>\n",
       "      <th>2</th>\n",
       "      <td>ჩარლი</td>\n",
       "      <td>95</td>\n",
       "    </tr>\n",
       "    <tr>\n",
       "      <th>3</th>\n",
       "      <td>დავითი</td>\n",
       "      <td>70</td>\n",
       "    </tr>\n",
       "  </tbody>\n",
       "</table>\n",
       "</div>"
      ],
      "text/plain": [
       "   სახელი  ქულა\n",
       "1    ბობი    92\n",
       "2   ჩარლი    95\n",
       "3  დავითი    70"
      ]
     },
     "execution_count": 11,
     "metadata": {},
     "output_type": "execute_result"
    }
   ],
   "source": [
    "# მოვნიშნოთ კონკრეტული სტრიქონების კონკრეტული სვეტები\n",
    "selected_data = df.loc[1:3, ['სახელი', 'ქულა']]\n",
    "print(\"\\nკონკრეტული სტრიქონების & სვეტების მონიშნა:\")\n",
    "selected_data"
   ]
  },
  {
   "cell_type": "code",
   "execution_count": 12,
   "id": "b4a59bc9-aa3e-4972-af61-e7b1dc40f5a4",
   "metadata": {},
   "outputs": [
    {
     "name": "stdout",
     "output_type": "stream",
     "text": [
      "\n",
      "კომბინირებული პირობა (ასაკი > 25 და ქულა > 80):\n"
     ]
    },
    {
     "data": {
      "text/html": [
       "<div>\n",
       "<style scoped>\n",
       "    .dataframe tbody tr th:only-of-type {\n",
       "        vertical-align: middle;\n",
       "    }\n",
       "\n",
       "    .dataframe tbody tr th {\n",
       "        vertical-align: top;\n",
       "    }\n",
       "\n",
       "    .dataframe thead th {\n",
       "        text-align: right;\n",
       "    }\n",
       "</style>\n",
       "<table border=\"1\" class=\"dataframe\">\n",
       "  <thead>\n",
       "    <tr style=\"text-align: right;\">\n",
       "      <th></th>\n",
       "      <th>სახელი</th>\n",
       "      <th>ასაკი</th>\n",
       "      <th>ქალაქი</th>\n",
       "      <th>ქულა</th>\n",
       "    </tr>\n",
       "  </thead>\n",
       "  <tbody>\n",
       "    <tr>\n",
       "      <th>1</th>\n",
       "      <td>ბობი</td>\n",
       "      <td>27</td>\n",
       "      <td>ჩიკაგო</td>\n",
       "      <td>92</td>\n",
       "    </tr>\n",
       "    <tr>\n",
       "      <th>4</th>\n",
       "      <td>ნიკა</td>\n",
       "      <td>29</td>\n",
       "      <td>ფენიქსი</td>\n",
       "      <td>85</td>\n",
       "    </tr>\n",
       "  </tbody>\n",
       "</table>\n",
       "</div>"
      ],
      "text/plain": [
       "  სახელი  ასაკი   ქალაქი  ქულა\n",
       "1   ბობი     27   ჩიკაგო    92\n",
       "4   ნიკა     29  ფენიქსი    85"
      ]
     },
     "execution_count": 12,
     "metadata": {},
     "output_type": "execute_result"
    }
   ],
   "source": [
    "# მოვნიშნოთ სტრიქონების სადაც ასაკი 25-ზე მეტია, ხოლო ქულა 80-ზე ნაკლები\n",
    "combined_conditions = df.loc[(df['ასაკი'] > 25) & (df['ქულა'] > 80)]\n",
    "print(\"\\nკომბინირებული პირობა (ასაკი > 25 და ქულა > 80):\")\n",
    "combined_conditions"
   ]
  },
  {
   "cell_type": "markdown",
   "id": "9c0cba6d-2b01-4fa4-958d-bb121203a8d7",
   "metadata": {},
   "source": [
    "#### .iloc[] მეთოდის მიმოხილვა"
   ]
  },
  {
   "cell_type": "markdown",
   "id": "b33cd543-4111-45b3-9ba6-749030570554",
   "metadata": {},
   "source": [
    ".iloc[] მეთოდი Pandas-ში გამოიყენება მთელ რიცხვებზე დაფუძნებული ინდექსაციისა და მონიშვნისთვის. ეს მეთოდი საშუალებას გვაძლევს მოვნიშნოთ სვეტები/სტრიქონები მათი ინდექსების გამოყენებით.\n",
    "\n",
    "ძირითადი პუნქტები:\n",
    "\n",
    "* მთელ რიცხვზე დაფუძნებული ინდექსირება: ვიყენეთ ინდექსს მონაცემებზე წვდომისთვის.\n",
    "* ნულზე დაფუძნებული ინდექსირება: ინდექსი იწყება 0-დან.\n",
    "* მოქნილი შერჩევა: შეგვიძლია ავირჩიოთ მთლიანი სტრიქონები, სვეტები ან კონკრეტული ელემენტები."
   ]
  },
  {
   "cell_type": "code",
   "execution_count": 15,
   "id": "60769328-4623-4b82-aead-4c507b7ec727",
   "metadata": {},
   "outputs": [
    {
     "name": "stdout",
     "output_type": "stream",
     "text": [
      "\n",
      "მოვნიშნოთ პირველი ორი სვეტი:\n"
     ]
    },
    {
     "data": {
      "text/html": [
       "<div>\n",
       "<style scoped>\n",
       "    .dataframe tbody tr th:only-of-type {\n",
       "        vertical-align: middle;\n",
       "    }\n",
       "\n",
       "    .dataframe tbody tr th {\n",
       "        vertical-align: top;\n",
       "    }\n",
       "\n",
       "    .dataframe thead th {\n",
       "        text-align: right;\n",
       "    }\n",
       "</style>\n",
       "<table border=\"1\" class=\"dataframe\">\n",
       "  <thead>\n",
       "    <tr style=\"text-align: right;\">\n",
       "      <th></th>\n",
       "      <th>სახელი</th>\n",
       "      <th>ასაკი</th>\n",
       "    </tr>\n",
       "  </thead>\n",
       "  <tbody>\n",
       "    <tr>\n",
       "      <th>0</th>\n",
       "      <td>გიორგი</td>\n",
       "      <td>24</td>\n",
       "    </tr>\n",
       "    <tr>\n",
       "      <th>1</th>\n",
       "      <td>ბობი</td>\n",
       "      <td>27</td>\n",
       "    </tr>\n",
       "    <tr>\n",
       "      <th>2</th>\n",
       "      <td>ჩარლი</td>\n",
       "      <td>22</td>\n",
       "    </tr>\n",
       "    <tr>\n",
       "      <th>3</th>\n",
       "      <td>დავითი</td>\n",
       "      <td>32</td>\n",
       "    </tr>\n",
       "    <tr>\n",
       "      <th>4</th>\n",
       "      <td>ნიკა</td>\n",
       "      <td>29</td>\n",
       "    </tr>\n",
       "  </tbody>\n",
       "</table>\n",
       "</div>"
      ],
      "text/plain": [
       "   სახელი  ასაკი\n",
       "0  გიორგი     24\n",
       "1    ბობი     27\n",
       "2   ჩარლი     22\n",
       "3  დავითი     32\n",
       "4    ნიკა     29"
      ]
     },
     "execution_count": 15,
     "metadata": {},
     "output_type": "execute_result"
    }
   ],
   "source": [
    "# მოვნიშნოთ ყველა სტრიქონი პირველი ორი სვეტისთვის\n",
    "selected_columns_iloc = df.iloc[:, 0:2]\n",
    "print(\"\\nმოვნიშნოთ პირველი ორი სვეტი:\")\n",
    "selected_columns_iloc"
   ]
  },
  {
   "cell_type": "code",
   "execution_count": 14,
   "id": "589b0e40-6e99-402a-a6f3-1d4a15b9d596",
   "metadata": {},
   "outputs": [
    {
     "name": "stdout",
     "output_type": "stream",
     "text": [
      "\n",
      "მოვნიშნოთ კონკრეტული სტრიქონები:\n"
     ]
    },
    {
     "data": {
      "text/html": [
       "<div>\n",
       "<style scoped>\n",
       "    .dataframe tbody tr th:only-of-type {\n",
       "        vertical-align: middle;\n",
       "    }\n",
       "\n",
       "    .dataframe tbody tr th {\n",
       "        vertical-align: top;\n",
       "    }\n",
       "\n",
       "    .dataframe thead th {\n",
       "        text-align: right;\n",
       "    }\n",
       "</style>\n",
       "<table border=\"1\" class=\"dataframe\">\n",
       "  <thead>\n",
       "    <tr style=\"text-align: right;\">\n",
       "      <th></th>\n",
       "      <th>სახელი</th>\n",
       "      <th>ასაკი</th>\n",
       "      <th>ქალაქი</th>\n",
       "      <th>ქულა</th>\n",
       "    </tr>\n",
       "  </thead>\n",
       "  <tbody>\n",
       "    <tr>\n",
       "      <th>1</th>\n",
       "      <td>ბობი</td>\n",
       "      <td>27</td>\n",
       "      <td>ჩიკაგო</td>\n",
       "      <td>92</td>\n",
       "    </tr>\n",
       "    <tr>\n",
       "      <th>2</th>\n",
       "      <td>ჩარლი</td>\n",
       "      <td>22</td>\n",
       "      <td>ნიუ-იორკი</td>\n",
       "      <td>95</td>\n",
       "    </tr>\n",
       "    <tr>\n",
       "      <th>3</th>\n",
       "      <td>დავითი</td>\n",
       "      <td>32</td>\n",
       "      <td>ჰიუსტონი</td>\n",
       "      <td>70</td>\n",
       "    </tr>\n",
       "  </tbody>\n",
       "</table>\n",
       "</div>"
      ],
      "text/plain": [
       "   სახელი  ასაკი     ქალაქი  ქულა\n",
       "1    ბობი     27     ჩიკაგო    92\n",
       "2   ჩარლი     22  ნიუ-იორკი    95\n",
       "3  დავითი     32   ჰიუსტონი    70"
      ]
     },
     "execution_count": 14,
     "metadata": {},
     "output_type": "execute_result"
    }
   ],
   "source": [
    "# მოვნიშნოთ კონკრეტული სვეტები DataFrane-ში\n",
    "filtered_rows_iloc = df.iloc[1:4]\n",
    "print(\"\\nმოვნიშნოთ კონკრეტული სტრიქონები:\")\n",
    "filtered_rows_iloc"
   ]
  },
  {
   "cell_type": "code",
   "execution_count": 18,
   "id": "44997052-b503-4f0f-8e7d-3f223bae0430",
   "metadata": {},
   "outputs": [
    {
     "name": "stdout",
     "output_type": "stream",
     "text": [
      "\n",
      "მოვნიშნოთ კონკრეტული სვეტები/სტრიქონები:\n"
     ]
    },
    {
     "data": {
      "text/html": [
       "<div>\n",
       "<style scoped>\n",
       "    .dataframe tbody tr th:only-of-type {\n",
       "        vertical-align: middle;\n",
       "    }\n",
       "\n",
       "    .dataframe tbody tr th {\n",
       "        vertical-align: top;\n",
       "    }\n",
       "\n",
       "    .dataframe thead th {\n",
       "        text-align: right;\n",
       "    }\n",
       "</style>\n",
       "<table border=\"1\" class=\"dataframe\">\n",
       "  <thead>\n",
       "    <tr style=\"text-align: right;\">\n",
       "      <th></th>\n",
       "      <th>სახელი</th>\n",
       "      <th>ქულა</th>\n",
       "    </tr>\n",
       "  </thead>\n",
       "  <tbody>\n",
       "    <tr>\n",
       "      <th>1</th>\n",
       "      <td>ბობი</td>\n",
       "      <td>92</td>\n",
       "    </tr>\n",
       "    <tr>\n",
       "      <th>2</th>\n",
       "      <td>ჩარლი</td>\n",
       "      <td>95</td>\n",
       "    </tr>\n",
       "  </tbody>\n",
       "</table>\n",
       "</div>"
      ],
      "text/plain": [
       "  სახელი  ქულა\n",
       "1   ბობი    92\n",
       "2  ჩარლი    95"
      ]
     },
     "execution_count": 18,
     "metadata": {},
     "output_type": "execute_result"
    }
   ],
   "source": [
    "# მოვნიშნოთ კონკრეტული სტრიქონები და სვეტები ინდექსების გამოყენებით\n",
    "selected_data_iloc = df.iloc[1:3, [0, 3]]\n",
    "print(\"\\nმოვნიშნოთ კონკრეტული სვეტები/სტრიქონები:\")\n",
    "selected_data_iloc"
   ]
  },
  {
   "cell_type": "markdown",
   "id": "684ad791-a3f0-4870-94c9-f8d5047fbcb3",
   "metadata": {},
   "source": [
    "### მონაცემთა მანიპულაცია\n",
    "\n",
    "Pandas-ში მარტივად შეგვიძლია დავამატოთ ან წავშალოთ სვეტები, დავამუშაოთ ცარიელი მნიშვნელობები და შევასრულოთ სხვა მონაცემთა მანიპულირების ამოცანები.\n"
   ]
  },
  {
   "cell_type": "code",
   "execution_count": 20,
   "id": "7d23ad5f-b485-40af-b831-90d8a0822747",
   "metadata": {},
   "outputs": [
    {
     "data": {
      "text/html": [
       "<div>\n",
       "<style scoped>\n",
       "    .dataframe tbody tr th:only-of-type {\n",
       "        vertical-align: middle;\n",
       "    }\n",
       "\n",
       "    .dataframe tbody tr th {\n",
       "        vertical-align: top;\n",
       "    }\n",
       "\n",
       "    .dataframe thead th {\n",
       "        text-align: right;\n",
       "    }\n",
       "</style>\n",
       "<table border=\"1\" class=\"dataframe\">\n",
       "  <thead>\n",
       "    <tr style=\"text-align: right;\">\n",
       "      <th></th>\n",
       "      <th>სახელი</th>\n",
       "      <th>ასაკი</th>\n",
       "      <th>ქალაქი</th>\n",
       "      <th>ქულა</th>\n",
       "    </tr>\n",
       "  </thead>\n",
       "  <tbody>\n",
       "    <tr>\n",
       "      <th>0</th>\n",
       "      <td>გიორგი</td>\n",
       "      <td>24</td>\n",
       "      <td>თბილისი</td>\n",
       "      <td>88</td>\n",
       "    </tr>\n",
       "    <tr>\n",
       "      <th>1</th>\n",
       "      <td>ბობი</td>\n",
       "      <td>27</td>\n",
       "      <td>ჩიკაგო</td>\n",
       "      <td>92</td>\n",
       "    </tr>\n",
       "    <tr>\n",
       "      <th>2</th>\n",
       "      <td>ჩარლი</td>\n",
       "      <td>22</td>\n",
       "      <td>ნიუ-იორკი</td>\n",
       "      <td>95</td>\n",
       "    </tr>\n",
       "    <tr>\n",
       "      <th>3</th>\n",
       "      <td>დავითი</td>\n",
       "      <td>32</td>\n",
       "      <td>ჰიუსტონი</td>\n",
       "      <td>70</td>\n",
       "    </tr>\n",
       "    <tr>\n",
       "      <th>4</th>\n",
       "      <td>ნიკა</td>\n",
       "      <td>29</td>\n",
       "      <td>ფენიქსი</td>\n",
       "      <td>85</td>\n",
       "    </tr>\n",
       "  </tbody>\n",
       "</table>\n",
       "</div>"
      ],
      "text/plain": [
       "   სახელი  ასაკი     ქალაქი  ქულა\n",
       "0  გიორგი     24    თბილისი    88\n",
       "1    ბობი     27     ჩიკაგო    92\n",
       "2   ჩარლი     22  ნიუ-იორკი    95\n",
       "3  დავითი     32   ჰიუსტონი    70\n",
       "4    ნიკა     29    ფენიქსი    85"
      ]
     },
     "execution_count": 20,
     "metadata": {},
     "output_type": "execute_result"
    }
   ],
   "source": [
    "df"
   ]
  },
  {
   "cell_type": "code",
   "execution_count": 23,
   "id": "1072e1aa-c5ec-454c-85c0-f98fde136840",
   "metadata": {},
   "outputs": [
    {
     "name": "stdout",
     "output_type": "stream",
     "text": [
      "DataFrame ახალი სვეტით:\n"
     ]
    },
    {
     "data": {
      "text/html": [
       "<div>\n",
       "<style scoped>\n",
       "    .dataframe tbody tr th:only-of-type {\n",
       "        vertical-align: middle;\n",
       "    }\n",
       "\n",
       "    .dataframe tbody tr th {\n",
       "        vertical-align: top;\n",
       "    }\n",
       "\n",
       "    .dataframe thead th {\n",
       "        text-align: right;\n",
       "    }\n",
       "</style>\n",
       "<table border=\"1\" class=\"dataframe\">\n",
       "  <thead>\n",
       "    <tr style=\"text-align: right;\">\n",
       "      <th></th>\n",
       "      <th>სახელი</th>\n",
       "      <th>ასაკი</th>\n",
       "      <th>ქალაქი</th>\n",
       "      <th>ქულა</th>\n",
       "      <th>ინდექსი</th>\n",
       "    </tr>\n",
       "  </thead>\n",
       "  <tbody>\n",
       "    <tr>\n",
       "      <th>0</th>\n",
       "      <td>გიორგი</td>\n",
       "      <td>24</td>\n",
       "      <td>თბილისი</td>\n",
       "      <td>88</td>\n",
       "      <td>1</td>\n",
       "    </tr>\n",
       "    <tr>\n",
       "      <th>1</th>\n",
       "      <td>ბობი</td>\n",
       "      <td>27</td>\n",
       "      <td>ჩიკაგო</td>\n",
       "      <td>92</td>\n",
       "      <td>2</td>\n",
       "    </tr>\n",
       "    <tr>\n",
       "      <th>2</th>\n",
       "      <td>ჩარლი</td>\n",
       "      <td>22</td>\n",
       "      <td>ნიუ-იორკი</td>\n",
       "      <td>95</td>\n",
       "      <td>3</td>\n",
       "    </tr>\n",
       "    <tr>\n",
       "      <th>3</th>\n",
       "      <td>დავითი</td>\n",
       "      <td>32</td>\n",
       "      <td>ჰიუსტონი</td>\n",
       "      <td>70</td>\n",
       "      <td>4</td>\n",
       "    </tr>\n",
       "    <tr>\n",
       "      <th>4</th>\n",
       "      <td>ნიკა</td>\n",
       "      <td>29</td>\n",
       "      <td>ფენიქსი</td>\n",
       "      <td>85</td>\n",
       "      <td>5</td>\n",
       "    </tr>\n",
       "  </tbody>\n",
       "</table>\n",
       "</div>"
      ],
      "text/plain": [
       "   სახელი  ასაკი     ქალაქი  ქულა ინდექსი\n",
       "0  გიორგი     24    თბილისი    88       1\n",
       "1    ბობი     27     ჩიკაგო    92       2\n",
       "2   ჩარლი     22  ნიუ-იორკი    95       3\n",
       "3  დავითი     32   ჰიუსტონი    70       4\n",
       "4    ნიკა     29    ფენიქსი    85       5"
      ]
     },
     "execution_count": 23,
     "metadata": {},
     "output_type": "execute_result"
    }
   ],
   "source": [
    "# დავამატოთ ახალი სვეტი\n",
    "df['ინდექსი'] = ['1', '2', '3', '4', '5']\n",
    "print(\"DataFrame ახალი სვეტით:\")\n",
    "df"
   ]
  },
  {
   "cell_type": "code",
   "execution_count": 24,
   "id": "d81dd6b5-0e9f-4cc2-98ca-8a8926f6efeb",
   "metadata": {},
   "outputs": [
    {
     "name": "stdout",
     "output_type": "stream",
     "text": [
      "DataFrame სვეტის წაშლით შემდეგ:\n"
     ]
    },
    {
     "data": {
      "text/html": [
       "<div>\n",
       "<style scoped>\n",
       "    .dataframe tbody tr th:only-of-type {\n",
       "        vertical-align: middle;\n",
       "    }\n",
       "\n",
       "    .dataframe tbody tr th {\n",
       "        vertical-align: top;\n",
       "    }\n",
       "\n",
       "    .dataframe thead th {\n",
       "        text-align: right;\n",
       "    }\n",
       "</style>\n",
       "<table border=\"1\" class=\"dataframe\">\n",
       "  <thead>\n",
       "    <tr style=\"text-align: right;\">\n",
       "      <th></th>\n",
       "      <th>სახელი</th>\n",
       "      <th>ასაკი</th>\n",
       "      <th>ქულა</th>\n",
       "      <th>ინდექსი</th>\n",
       "    </tr>\n",
       "  </thead>\n",
       "  <tbody>\n",
       "    <tr>\n",
       "      <th>0</th>\n",
       "      <td>გიორგი</td>\n",
       "      <td>24</td>\n",
       "      <td>88</td>\n",
       "      <td>1</td>\n",
       "    </tr>\n",
       "    <tr>\n",
       "      <th>1</th>\n",
       "      <td>ბობი</td>\n",
       "      <td>27</td>\n",
       "      <td>92</td>\n",
       "      <td>2</td>\n",
       "    </tr>\n",
       "    <tr>\n",
       "      <th>2</th>\n",
       "      <td>ჩარლი</td>\n",
       "      <td>22</td>\n",
       "      <td>95</td>\n",
       "      <td>3</td>\n",
       "    </tr>\n",
       "    <tr>\n",
       "      <th>3</th>\n",
       "      <td>დავითი</td>\n",
       "      <td>32</td>\n",
       "      <td>70</td>\n",
       "      <td>4</td>\n",
       "    </tr>\n",
       "    <tr>\n",
       "      <th>4</th>\n",
       "      <td>ნიკა</td>\n",
       "      <td>29</td>\n",
       "      <td>85</td>\n",
       "      <td>5</td>\n",
       "    </tr>\n",
       "  </tbody>\n",
       "</table>\n",
       "</div>"
      ],
      "text/plain": [
       "   სახელი  ასაკი  ქულა ინდექსი\n",
       "0  გიორგი     24    88       1\n",
       "1    ბობი     27    92       2\n",
       "2   ჩარლი     22    95       3\n",
       "3  დავითი     32    70       4\n",
       "4    ნიკა     29    85       5"
      ]
     },
     "execution_count": 24,
     "metadata": {},
     "output_type": "execute_result"
    }
   ],
   "source": [
    "# წავშალოთ სვეტი\n",
    "df.drop('ქალაქი', axis=1, inplace=True)\n",
    "print(\"DataFrame სვეტის წაშლით შემდეგ:\")\n",
    "df"
   ]
  },
  {
   "cell_type": "code",
   "execution_count": 27,
   "id": "3d644597-a22f-4e7d-9289-62daf7b6b976",
   "metadata": {},
   "outputs": [
    {
     "name": "stdout",
     "output_type": "stream",
     "text": [
      "DataFrame გამოტოვებული მნიშვნელობებით:\n"
     ]
    },
    {
     "data": {
      "text/html": [
       "<div>\n",
       "<style scoped>\n",
       "    .dataframe tbody tr th:only-of-type {\n",
       "        vertical-align: middle;\n",
       "    }\n",
       "\n",
       "    .dataframe tbody tr th {\n",
       "        vertical-align: top;\n",
       "    }\n",
       "\n",
       "    .dataframe thead th {\n",
       "        text-align: right;\n",
       "    }\n",
       "</style>\n",
       "<table border=\"1\" class=\"dataframe\">\n",
       "  <thead>\n",
       "    <tr style=\"text-align: right;\">\n",
       "      <th></th>\n",
       "      <th>სახელი</th>\n",
       "      <th>ასაკი</th>\n",
       "      <th>ქულა</th>\n",
       "      <th>ინდექსი</th>\n",
       "    </tr>\n",
       "  </thead>\n",
       "  <tbody>\n",
       "    <tr>\n",
       "      <th>0</th>\n",
       "      <td>გიორგი</td>\n",
       "      <td>24.0</td>\n",
       "      <td>88</td>\n",
       "      <td>1</td>\n",
       "    </tr>\n",
       "    <tr>\n",
       "      <th>1</th>\n",
       "      <td>ბობი</td>\n",
       "      <td>NaN</td>\n",
       "      <td>92</td>\n",
       "      <td>2</td>\n",
       "    </tr>\n",
       "    <tr>\n",
       "      <th>2</th>\n",
       "      <td>ჩარლი</td>\n",
       "      <td>22.0</td>\n",
       "      <td>95</td>\n",
       "      <td>3</td>\n",
       "    </tr>\n",
       "    <tr>\n",
       "      <th>3</th>\n",
       "      <td>დავითი</td>\n",
       "      <td>32.0</td>\n",
       "      <td>70</td>\n",
       "      <td>4</td>\n",
       "    </tr>\n",
       "    <tr>\n",
       "      <th>4</th>\n",
       "      <td>ნიკა</td>\n",
       "      <td>29.0</td>\n",
       "      <td>85</td>\n",
       "      <td>5</td>\n",
       "    </tr>\n",
       "  </tbody>\n",
       "</table>\n",
       "</div>"
      ],
      "text/plain": [
       "   სახელი  ასაკი  ქულა ინდექსი\n",
       "0  გიორგი   24.0    88       1\n",
       "1    ბობი    NaN    92       2\n",
       "2   ჩარლი   22.0    95       3\n",
       "3  დავითი   32.0    70       4\n",
       "4    ნიკა   29.0    85       5"
      ]
     },
     "execution_count": 27,
     "metadata": {},
     "output_type": "execute_result"
    }
   ],
   "source": [
    "# დავამუშავოთ ცარიელი მნიშვნელობები\n",
    "df_with_nan = df.copy()\n",
    "# ხელოვნურად დავამატოთ ცარიელი მნიშვნელობა\n",
    "df_with_nan.loc[1, 'ასაკი'] = None\n",
    "print(\"DataFrame გამოტოვებული მნიშვნელობებით:\")\n",
    "df_with_nan"
   ]
  },
  {
   "cell_type": "code",
   "execution_count": 28,
   "id": "25afb64a-f682-46eb-a8e7-30833dc019ca",
   "metadata": {},
   "outputs": [
    {
     "name": "stdout",
     "output_type": "stream",
     "text": [
      "DataFrame გამოტოვებული მნიშვლებობების შევსების შემდეგ:\n"
     ]
    },
    {
     "data": {
      "text/html": [
       "<div>\n",
       "<style scoped>\n",
       "    .dataframe tbody tr th:only-of-type {\n",
       "        vertical-align: middle;\n",
       "    }\n",
       "\n",
       "    .dataframe tbody tr th {\n",
       "        vertical-align: top;\n",
       "    }\n",
       "\n",
       "    .dataframe thead th {\n",
       "        text-align: right;\n",
       "    }\n",
       "</style>\n",
       "<table border=\"1\" class=\"dataframe\">\n",
       "  <thead>\n",
       "    <tr style=\"text-align: right;\">\n",
       "      <th></th>\n",
       "      <th>სახელი</th>\n",
       "      <th>ასაკი</th>\n",
       "      <th>ქულა</th>\n",
       "      <th>ინდექსი</th>\n",
       "    </tr>\n",
       "  </thead>\n",
       "  <tbody>\n",
       "    <tr>\n",
       "      <th>0</th>\n",
       "      <td>გიორგი</td>\n",
       "      <td>24.0</td>\n",
       "      <td>88</td>\n",
       "      <td>1</td>\n",
       "    </tr>\n",
       "    <tr>\n",
       "      <th>1</th>\n",
       "      <td>ბობი</td>\n",
       "      <td>0.0</td>\n",
       "      <td>92</td>\n",
       "      <td>2</td>\n",
       "    </tr>\n",
       "    <tr>\n",
       "      <th>2</th>\n",
       "      <td>ჩარლი</td>\n",
       "      <td>22.0</td>\n",
       "      <td>95</td>\n",
       "      <td>3</td>\n",
       "    </tr>\n",
       "    <tr>\n",
       "      <th>3</th>\n",
       "      <td>დავითი</td>\n",
       "      <td>32.0</td>\n",
       "      <td>70</td>\n",
       "      <td>4</td>\n",
       "    </tr>\n",
       "    <tr>\n",
       "      <th>4</th>\n",
       "      <td>ნიკა</td>\n",
       "      <td>29.0</td>\n",
       "      <td>85</td>\n",
       "      <td>5</td>\n",
       "    </tr>\n",
       "  </tbody>\n",
       "</table>\n",
       "</div>"
      ],
      "text/plain": [
       "   სახელი  ასაკი  ქულა ინდექსი\n",
       "0  გიორგი   24.0    88       1\n",
       "1    ბობი    0.0    92       2\n",
       "2   ჩარლი   22.0    95       3\n",
       "3  დავითი   32.0    70       4\n",
       "4    ნიკა   29.0    85       5"
      ]
     },
     "execution_count": 28,
     "metadata": {},
     "output_type": "execute_result"
    }
   ],
   "source": [
    "# გავფილტროთ გამოტოვებული მნიშვნელობები\n",
    "df_filled = df_with_nan.fillna(0) # შევავსოთ გამოტოვებული მნიშვნელობები 0-ით\n",
    "print(\"DataFrame გამოტოვებული მნიშვლებობების შევსების შემდეგ:\")\n",
    "df_filled"
   ]
  },
  {
   "cell_type": "code",
   "execution_count": 29,
   "id": "1fa0845f-2d67-4665-8edf-d445f485c6b2",
   "metadata": {},
   "outputs": [
    {
     "name": "stdout",
     "output_type": "stream",
     "text": [
      "DataFrame after Dropping Missing Values:\n"
     ]
    },
    {
     "data": {
      "text/html": [
       "<div>\n",
       "<style scoped>\n",
       "    .dataframe tbody tr th:only-of-type {\n",
       "        vertical-align: middle;\n",
       "    }\n",
       "\n",
       "    .dataframe tbody tr th {\n",
       "        vertical-align: top;\n",
       "    }\n",
       "\n",
       "    .dataframe thead th {\n",
       "        text-align: right;\n",
       "    }\n",
       "</style>\n",
       "<table border=\"1\" class=\"dataframe\">\n",
       "  <thead>\n",
       "    <tr style=\"text-align: right;\">\n",
       "      <th></th>\n",
       "      <th>სახელი</th>\n",
       "      <th>ასაკი</th>\n",
       "      <th>ქულა</th>\n",
       "      <th>ინდექსი</th>\n",
       "    </tr>\n",
       "  </thead>\n",
       "  <tbody>\n",
       "    <tr>\n",
       "      <th>0</th>\n",
       "      <td>გიორგი</td>\n",
       "      <td>24.0</td>\n",
       "      <td>88</td>\n",
       "      <td>1</td>\n",
       "    </tr>\n",
       "    <tr>\n",
       "      <th>2</th>\n",
       "      <td>ჩარლი</td>\n",
       "      <td>22.0</td>\n",
       "      <td>95</td>\n",
       "      <td>3</td>\n",
       "    </tr>\n",
       "    <tr>\n",
       "      <th>3</th>\n",
       "      <td>დავითი</td>\n",
       "      <td>32.0</td>\n",
       "      <td>70</td>\n",
       "      <td>4</td>\n",
       "    </tr>\n",
       "    <tr>\n",
       "      <th>4</th>\n",
       "      <td>ნიკა</td>\n",
       "      <td>29.0</td>\n",
       "      <td>85</td>\n",
       "      <td>5</td>\n",
       "    </tr>\n",
       "  </tbody>\n",
       "</table>\n",
       "</div>"
      ],
      "text/plain": [
       "   სახელი  ასაკი  ქულა ინდექსი\n",
       "0  გიორგი   24.0    88       1\n",
       "2   ჩარლი   22.0    95       3\n",
       "3  დავითი   32.0    70       4\n",
       "4    ნიკა   29.0    85       5"
      ]
     },
     "execution_count": 29,
     "metadata": {},
     "output_type": "execute_result"
    }
   ],
   "source": [
    "# მოვაცილოთ სტრიქონები გამოტოვებული მნიშვნელობებით\n",
    "df_dropped = df_with_nan.dropna() # აცილებს სტრიქონებს გამოტოვებული მნიშვნელობებით\n",
    "print(\"DataFrame after Dropping Missing Values:\")\n",
    "df_dropped"
   ]
  },
  {
   "cell_type": "markdown",
   "id": "1fe8e2b3-c260-426c-a72e-653caad394f6",
   "metadata": {},
   "source": [
    "### დაჯქუფება და აგრეგაცია\n",
    "მონაცემების დაჯგუფება და აგრეგაცია შეიძლება მეთდებით `.groupby()` და `.agg()`"
   ]
  },
  {
   "cell_type": "code",
   "execution_count": 32,
   "id": "a5b75ff7-54ee-45c2-87cb-a936014cdc33",
   "metadata": {},
   "outputs": [
    {
     "name": "stdout",
     "output_type": "stream",
     "text": [
      "დაჯგუფებული DataFrame:\n"
     ]
    },
    {
     "data": {
      "text/html": [
       "<div>\n",
       "<style scoped>\n",
       "    .dataframe tbody tr th:only-of-type {\n",
       "        vertical-align: middle;\n",
       "    }\n",
       "\n",
       "    .dataframe tbody tr th {\n",
       "        vertical-align: top;\n",
       "    }\n",
       "\n",
       "    .dataframe thead th {\n",
       "        text-align: right;\n",
       "    }\n",
       "</style>\n",
       "<table border=\"1\" class=\"dataframe\">\n",
       "  <thead>\n",
       "    <tr style=\"text-align: right;\">\n",
       "      <th></th>\n",
       "      <th>სახელი</th>\n",
       "      <th>ქულა</th>\n",
       "      <th>ინდექსი</th>\n",
       "    </tr>\n",
       "    <tr>\n",
       "      <th>ასაკი</th>\n",
       "      <th></th>\n",
       "      <th></th>\n",
       "      <th></th>\n",
       "    </tr>\n",
       "  </thead>\n",
       "  <tbody>\n",
       "    <tr>\n",
       "      <th>22</th>\n",
       "      <td>1</td>\n",
       "      <td>1</td>\n",
       "      <td>1</td>\n",
       "    </tr>\n",
       "    <tr>\n",
       "      <th>24</th>\n",
       "      <td>1</td>\n",
       "      <td>1</td>\n",
       "      <td>1</td>\n",
       "    </tr>\n",
       "    <tr>\n",
       "      <th>27</th>\n",
       "      <td>1</td>\n",
       "      <td>1</td>\n",
       "      <td>1</td>\n",
       "    </tr>\n",
       "    <tr>\n",
       "      <th>29</th>\n",
       "      <td>1</td>\n",
       "      <td>1</td>\n",
       "      <td>1</td>\n",
       "    </tr>\n",
       "    <tr>\n",
       "      <th>32</th>\n",
       "      <td>1</td>\n",
       "      <td>1</td>\n",
       "      <td>1</td>\n",
       "    </tr>\n",
       "  </tbody>\n",
       "</table>\n",
       "</div>"
      ],
      "text/plain": [
       "       სახელი  ქულა  ინდექსი\n",
       "ასაკი                       \n",
       "22          1     1        1\n",
       "24          1     1        1\n",
       "27          1     1        1\n",
       "29          1     1        1\n",
       "32          1     1        1"
      ]
     },
     "execution_count": 32,
     "metadata": {},
     "output_type": "execute_result"
    }
   ],
   "source": [
    "# მონაცემების დაჯგუფება\n",
    "grouped_df = df.groupby('ასაკი').count()\n",
    "print(\"დაჯგუფებული DataFrame:\")\n",
    "grouped_df"
   ]
  },
  {
   "cell_type": "code",
   "execution_count": 34,
   "id": "849b8e43-956a-49d5-91fa-0dbb7d983acd",
   "metadata": {},
   "outputs": [
    {
     "name": "stdout",
     "output_type": "stream",
     "text": [
      "DataFrame აგრეგაციის შემდეგ\n"
     ]
    },
    {
     "data": {
      "text/html": [
       "<div>\n",
       "<style scoped>\n",
       "    .dataframe tbody tr th:only-of-type {\n",
       "        vertical-align: middle;\n",
       "    }\n",
       "\n",
       "    .dataframe tbody tr th {\n",
       "        vertical-align: top;\n",
       "    }\n",
       "\n",
       "    .dataframe thead th {\n",
       "        text-align: right;\n",
       "    }\n",
       "</style>\n",
       "<table border=\"1\" class=\"dataframe\">\n",
       "  <thead>\n",
       "    <tr style=\"text-align: right;\">\n",
       "      <th></th>\n",
       "      <th>სახელი</th>\n",
       "      <th>ასაკი</th>\n",
       "    </tr>\n",
       "    <tr>\n",
       "      <th>ასაკი</th>\n",
       "      <th></th>\n",
       "      <th></th>\n",
       "    </tr>\n",
       "  </thead>\n",
       "  <tbody>\n",
       "    <tr>\n",
       "      <th>22</th>\n",
       "      <td>1</td>\n",
       "      <td>22.0</td>\n",
       "    </tr>\n",
       "    <tr>\n",
       "      <th>24</th>\n",
       "      <td>1</td>\n",
       "      <td>24.0</td>\n",
       "    </tr>\n",
       "    <tr>\n",
       "      <th>27</th>\n",
       "      <td>1</td>\n",
       "      <td>27.0</td>\n",
       "    </tr>\n",
       "    <tr>\n",
       "      <th>29</th>\n",
       "      <td>1</td>\n",
       "      <td>29.0</td>\n",
       "    </tr>\n",
       "    <tr>\n",
       "      <th>32</th>\n",
       "      <td>1</td>\n",
       "      <td>32.0</td>\n",
       "    </tr>\n",
       "  </tbody>\n",
       "</table>\n",
       "</div>"
      ],
      "text/plain": [
       "       სახელი  ასაკი\n",
       "ასაკი               \n",
       "22          1   22.0\n",
       "24          1   24.0\n",
       "27          1   27.0\n",
       "29          1   29.0\n",
       "32          1   32.0"
      ]
     },
     "execution_count": 34,
     "metadata": {},
     "output_type": "execute_result"
    }
   ],
   "source": [
    "# აგრეგაცია\n",
    "agg_df = df.groupby('ასაკი').agg({'სახელი': 'count', 'ასაკი': 'mean'})\n",
    "print(\"DataFrame აგრეგაციის შემდეგ\")\n",
    "agg_df"
   ]
  },
  {
   "cell_type": "markdown",
   "id": "fcb5a0db-0d39-4583-857f-169976d39e00",
   "metadata": {},
   "source": [
    "### მონაცემთა შერწყმა & შეერთება\n",
    "მონაცემების გაერთიანება შეიძლება შემდეგი მეთოდებით:g `pd.merge()`დაd `pd.concat()\n"
   ]
  },
  {
   "cell_type": "code",
   "execution_count": 35,
   "id": "55e3b6ac-9734-4b97-aed2-f658004b4130",
   "metadata": {},
   "outputs": [
    {
     "name": "stdout",
     "output_type": "stream",
     "text": [
      "შერწყმული DataFrame:\n"
     ]
    },
    {
     "data": {
      "text/html": [
       "<div>\n",
       "<style scoped>\n",
       "    .dataframe tbody tr th:only-of-type {\n",
       "        vertical-align: middle;\n",
       "    }\n",
       "\n",
       "    .dataframe tbody tr th {\n",
       "        vertical-align: top;\n",
       "    }\n",
       "\n",
       "    .dataframe thead th {\n",
       "        text-align: right;\n",
       "    }\n",
       "</style>\n",
       "<table border=\"1\" class=\"dataframe\">\n",
       "  <thead>\n",
       "    <tr style=\"text-align: right;\">\n",
       "      <th></th>\n",
       "      <th>ID</th>\n",
       "      <th>სახელი</th>\n",
       "      <th>ასაკი</th>\n",
       "    </tr>\n",
       "  </thead>\n",
       "  <tbody>\n",
       "    <tr>\n",
       "      <th>0</th>\n",
       "      <td>1</td>\n",
       "      <td>ალისი</td>\n",
       "      <td>25</td>\n",
       "    </tr>\n",
       "    <tr>\n",
       "      <th>1</th>\n",
       "      <td>2</td>\n",
       "      <td>ბობი</td>\n",
       "      <td>30</td>\n",
       "    </tr>\n",
       "  </tbody>\n",
       "</table>\n",
       "</div>"
      ],
      "text/plain": [
       "   ID სახელი  ასაკი\n",
       "0   1  ალისი     25\n",
       "1   2   ბობი     30"
      ]
     },
     "execution_count": 35,
     "metadata": {},
     "output_type": "execute_result"
    }
   ],
   "source": [
    "# DataFrame-ების შერწყმა\n",
    "df1 = pd.DataFrame({'ID': [1, 2], 'სახელი': ['ალისი', 'ბობი']})\n",
    "df2 = pd.DataFrame({'ID': [1, 2], 'ასაკი': [25, 30]})\n",
    "merged_df = pd.merge(df1, df2, on='ID')\n",
    "print(\"შერწყმული DataFrame:\")\n",
    "merged_df"
   ]
  },
  {
   "cell_type": "code",
   "execution_count": 36,
   "id": "eb1a8e6b-9c2d-4a75-9cc7-005d2c4ece35",
   "metadata": {},
   "outputs": [
    {
     "name": "stdout",
     "output_type": "stream",
     "text": [
      "გადაბული DataFrame:\n"
     ]
    },
    {
     "data": {
      "text/html": [
       "<div>\n",
       "<style scoped>\n",
       "    .dataframe tbody tr th:only-of-type {\n",
       "        vertical-align: middle;\n",
       "    }\n",
       "\n",
       "    .dataframe tbody tr th {\n",
       "        vertical-align: top;\n",
       "    }\n",
       "\n",
       "    .dataframe thead th {\n",
       "        text-align: right;\n",
       "    }\n",
       "</style>\n",
       "<table border=\"1\" class=\"dataframe\">\n",
       "  <thead>\n",
       "    <tr style=\"text-align: right;\">\n",
       "      <th></th>\n",
       "      <th>ID</th>\n",
       "      <th>სახელი</th>\n",
       "      <th>ასაკი</th>\n",
       "    </tr>\n",
       "  </thead>\n",
       "  <tbody>\n",
       "    <tr>\n",
       "      <th>0</th>\n",
       "      <td>1</td>\n",
       "      <td>ალისი</td>\n",
       "      <td>25</td>\n",
       "    </tr>\n",
       "    <tr>\n",
       "      <th>1</th>\n",
       "      <td>2</td>\n",
       "      <td>ბობი</td>\n",
       "      <td>30</td>\n",
       "    </tr>\n",
       "    <tr>\n",
       "      <th>0</th>\n",
       "      <td>3</td>\n",
       "      <td>ჩარლი</td>\n",
       "      <td>35</td>\n",
       "    </tr>\n",
       "  </tbody>\n",
       "</table>\n",
       "</div>"
      ],
      "text/plain": [
       "   ID სახელი  ასაკი\n",
       "0   1  ალისი     25\n",
       "1   2   ბობი     30\n",
       "0   3  ჩარლი     35"
      ]
     },
     "execution_count": 36,
     "metadata": {},
     "output_type": "execute_result"
    }
   ],
   "source": [
    "# DataFrame-ების გადაბმა\n",
    "df3 = pd.DataFrame({'ID': [3], 'სახელი': ['ჩარლი'], 'ასაკი': [35]})\n",
    "concat_df = pd.concat([merged_df, df3])\n",
    "print(\"გადაბული DataFrame:\")\n",
    "concat_df"
   ]
  },
  {
   "cell_type": "markdown",
   "id": "17e28f91-3f8d-4d72-b814-5e46106db93c",
   "metadata": {},
   "source": [
    "### Summary\n",
    "In this notebook, we covered:\n",
    "- Creating DataFrames using different methods.\n",
    "- Selecting and filtering data.\n",
    "- Performing data manipulation tasks.\n",
    "- Grouping and aggregating data.\n",
    "- Merging and joining DataFrames.\n",
    "\n",
    "Pandas is a versatile library that provides powerful data manipulation and analysis tools. With these basics, you can start leveraging Pandas for your data pojects.\n"
   ]
  },
  {
   "cell_type": "markdown",
   "id": "a2739620-8e7b-4523-9d26-61d7a3ed2a4a",
   "metadata": {},
   "source": [
    "## HuggingFace\n",
    "Hugging Face არის კომპანია და საჯარო საზოგადოება, რომელიც განსაკუთრებით პოპულარულია ბუნებრივი ენის დამუშავების (NLP) მიმართლებით. ის უზრუნველყოფს ინსტრუმენტებს, მოდელებს და ბიბლიოთეკებს, რომლებიც აადვილებს NLP მოდელების შექმნას, მომზადებას და დანერგვას. Hugging Face-ის ერთ-ერთი ყველაზე პოპულარული ბიბლიოთეკაა \"transformers\" და \"datasets\", სადაც მოდელების/დატასეტების დიდი სპექტრია წარმოდგენილი.ets.\n"
   ]
  },
  {
   "cell_type": "markdown",
   "id": "d2a31596-da48-4a1a-a68b-48df21d08421",
   "metadata": {},
   "source": [
    "### Huggingface Datasets - შესავალი\n",
    "Huggingface Datasets (ბიბლიოთეკა) არის ძლიერი ინსტრუმენტი მონაცემების ჩატვირთვის, დამუშავებისა და მართვისთვის, განსაკუთრებით ბუნებრივი ენის დამუშავების კონტექსტში. მისი გამოყენებით მარტივად და ეფექტურად შეგვიძლია ვემუშავოთ ფართომასშტაბიანი მონაცემების."
   ]
  },
  {
   "cell_type": "code",
   "execution_count": 38,
   "id": "fe1111ca-2686-45a4-a034-03e5d0b707f4",
   "metadata": {},
   "outputs": [],
   "source": [
    "# # datasets-ის ინსტალაცია (მოაცილეთ # ქვემოთ და გაუშვით კოდი თუ უკვე დაინსტალირებული არ გაქვთ)\n",
    "# !pip install datasets\n",
    "\n",
    "from datasets import load_dataset"
   ]
  },
  {
   "cell_type": "markdown",
   "id": "c71103b6-5940-4f42-aa67-19d2e529e408",
   "metadata": {},
   "source": [
    "### მონაცემების ჩამოტვირთვა Datasets-ის გამოყენებით\n",
    "მონაცემების ჩატვირთვა Huggingface datasets ბიბლიოთეკის გამოყენებით შეგვიძლია ფუნქციით `load_dataset`. ჰაბზე ბევრი გამზადებული მონაცმეების პოვნა შეიძლება; ამ შემთხვევაში გამოვიყენებთ ერთ-ერთ მათგანს - imdb მონაცემებს.\n"
   ]
  },
  {
   "cell_type": "code",
   "execution_count": 39,
   "id": "24dc690c-92ec-435d-88eb-ecfab68f1cbe",
   "metadata": {},
   "outputs": [
    {
     "name": "stdout",
     "output_type": "stream",
     "text": [
      "IMDB Dataset:\n",
      " DatasetDict({\n",
      "    train: Dataset({\n",
      "        features: ['text', 'label'],\n",
      "        num_rows: 25000\n",
      "    })\n",
      "    test: Dataset({\n",
      "        features: ['text', 'label'],\n",
      "        num_rows: 25000\n",
      "    })\n",
      "    unsupervised: Dataset({\n",
      "        features: ['text', 'label'],\n",
      "        num_rows: 50000\n",
      "    })\n",
      "})\n"
     ]
    }
   ],
   "source": [
    "# ჩავტვირთოთ IMDB მონაცემები\n",
    "dataset = load_dataset('imdb')\n",
    "print(\"IMDB Dataset:\\n\", dataset)"
   ]
  },
  {
   "cell_type": "code",
   "execution_count": 41,
   "id": "b0c3bb7e-bc9b-4caf-adc9-dd51c70dd185",
   "metadata": {},
   "outputs": [
    {
     "name": "stdout",
     "output_type": "stream",
     "text": [
      "<class 'datasets.dataset_dict.DatasetDict'>\n",
      "<class 'datasets.arrow_dataset.Dataset'>\n"
     ]
    }
   ],
   "source": [
    "# Dataset-ები 'შეფუთულია' DatasetDict-ში სხვადასხვა ნაწილის მარტივად შესანახად\n",
    "print(type(dataset))\n",
    "print(type(dataset['train']))"
   ]
  },
  {
   "cell_type": "markdown",
   "id": "b2d9e3cb-a64b-407d-82f9-8dc64982a193",
   "metadata": {},
   "source": [
    "### მონაცემების გამოკვლევა\n",
    "We can explore the dataset to understand its structure, including the features and examples\n"
   ]
  },
  {
   "cell_type": "code",
   "execution_count": 42,
   "id": "eaff9a1d-ea98-4741-8688-4057aca37209",
   "metadata": {},
   "outputs": [
    {
     "name": "stdout",
     "output_type": "stream",
     "text": [
      "სვეტები (\"ცვლადები\") მონაცემებში:\n"
     ]
    },
    {
     "data": {
      "text/plain": [
       "{'text': Value(dtype='string', id=None),\n",
       " 'label': ClassLabel(names=['neg', 'pos'], id=None)}"
      ]
     },
     "execution_count": 42,
     "metadata": {},
     "output_type": "execute_result"
    }
   ],
   "source": [
    "# ვნახოთ მონაცემების სტრუქტურა\n",
    "print(\"სვეტები (\\\"ცვლადები\\\") მონაცემებში:\")\n",
    "dataset['train'].features"
   ]
  },
  {
   "cell_type": "code",
   "execution_count": 43,
   "id": "e6ba6b2f-b65c-4390-b47d-66066738581e",
   "metadata": {},
   "outputs": [
    {
     "name": "stdout",
     "output_type": "stream",
     "text": [
      "მაგალითი სასწავლო ნაწილიდან:\n"
     ]
    },
    {
     "data": {
      "text/plain": [
       "{'text': 'I rented I AM CURIOUS-YELLOW from my video store because of all the controversy that surrounded it when it was first released in 1967. I also heard that at first it was seized by U.S. customs if it ever tried to enter this country, therefore being a fan of films considered \"controversial\" I really had to see this for myself.<br /><br />The plot is centered around a young Swedish drama student named Lena who wants to learn everything she can about life. In particular she wants to focus her attentions to making some sort of documentary on what the average Swede thought about certain political issues such as the Vietnam War and race issues in the United States. In between asking politicians and ordinary denizens of Stockholm about their opinions on politics, she has sex with her drama teacher, classmates, and married men.<br /><br />What kills me about I AM CURIOUS-YELLOW is that 40 years ago, this was considered pornographic. Really, the sex and nudity scenes are few and far between, even then it\\'s not shot like some cheaply made porno. While my countrymen mind find it shocking, in reality sex and nudity are a major staple in Swedish cinema. Even Ingmar Bergman, arguably their answer to good old boy John Ford, had sex scenes in his films.<br /><br />I do commend the filmmakers for the fact that any sex shown in the film is shown for artistic purposes rather than just to shock people and make money to be shown in pornographic theaters in America. I AM CURIOUS-YELLOW is a good film for anyone wanting to study the meat and potatoes (no pun intended) of Swedish cinema. But really, this film doesn\\'t have much of a plot.',\n",
       " 'label': 0}"
      ]
     },
     "execution_count": 43,
     "metadata": {},
     "output_type": "execute_result"
    }
   ],
   "source": [
    "# ვნახოთ მაგალითი სასწავლო მონაცემებიდან\n",
    "print(\"მაგალითი სასწავლო ნაწილიდან:\")\n",
    "dataset['train'][0]"
   ]
  },
  {
   "cell_type": "markdown",
   "id": "166df6b4-d838-4586-9508-eb297e2cca7b",
   "metadata": {},
   "source": [
    "### მონაცემების დაყოფა\n",
    "მონაცემები შეგვიძლია დავყოთ სასწავლო, ვალიდაციის და ტესტ ნაწილებად\n"
   ]
  },
  {
   "cell_type": "code",
   "execution_count": 44,
   "id": "bcf46641-23b7-4c77-b624-db914d308507",
   "metadata": {},
   "outputs": [
    {
     "name": "stdout",
     "output_type": "stream",
     "text": [
      "სასწავლო მონცემების ზომა: 20000\n",
      "სატესტო მონაცემების ზომა: 5000\n"
     ]
    }
   ],
   "source": [
    "train_test_split = dataset['train'].train_test_split(test_size=0.2)\n",
    "train_dataset = train_test_split['train']\n",
    "test_dataset = train_test_split['test']\n",
    "\n",
    "print(\"სასწავლო მონცემების ზომა:\", len(train_dataset))\n",
    "print(\"სატესტო მონაცემების ზომა:\", len(test_dataset))"
   ]
  },
  {
   "cell_type": "markdown",
   "id": "0ddf7875-269e-42b2-98f4-485b25b89ad9",
   "metadata": {},
   "source": [
    "### მონაცემების მონიშვნა და გაფილტვრა\n",
    "შეგვიძლია მოვნიშნოთ მონაცემების კონკრეტული ქვეჯგუფები ან გავფილტროთ გარკვეული პირობებზე დაყრდნობით\n"
   ]
  },
  {
   "cell_type": "code",
   "execution_count": 45,
   "id": "da1abd42-1483-41bb-bef4-8bbb7de8115c",
   "metadata": {},
   "outputs": [
    {
     "name": "stdout",
     "output_type": "stream",
     "text": [
      "სასწავლო მონაცემების პირველი ხუთი სტრიქონი:\n"
     ]
    },
    {
     "data": {
      "text/plain": [
       "Dataset({\n",
       "    features: ['text', 'label'],\n",
       "    num_rows: 5\n",
       "})"
      ]
     },
     "execution_count": 45,
     "metadata": {},
     "output_type": "execute_result"
    }
   ],
   "source": [
    "# მოვნიშნოთ პირველი ხუთი მაგალითი სასწავლო ნაწილიდან\n",
    "subset = train_dataset.select([0, 1, 2, 3, 4])\n",
    "print(\"სასწავლო მონაცემების პირველი ხუთი სტრიქონი:\")\n",
    "subset"
   ]
  },
  {
   "cell_type": "code",
   "execution_count": 46,
   "id": "a0b7839f-542a-4d0e-897f-8a3115b4ba36",
   "metadata": {},
   "outputs": [
    {
     "data": {
      "application/vnd.jupyter.widget-view+json": {
       "model_id": "da98eaabc181494ba71b71fe92a3905c",
       "version_major": 2,
       "version_minor": 0
      },
      "text/plain": [
       "Filter:   0%|          | 0/20000 [00:00<?, ? examples/s]"
      ]
     },
     "metadata": {},
     "output_type": "display_data"
    },
    {
     "name": "stdout",
     "output_type": "stream",
     "text": [
      "გაფილტრული მონაცემები (label == 1):\n"
     ]
    },
    {
     "data": {
      "text/plain": [
       "Dataset({\n",
       "    features: ['text', 'label'],\n",
       "    num_rows: 9972\n",
       "})"
      ]
     },
     "execution_count": 46,
     "metadata": {},
     "output_type": "execute_result"
    }
   ],
   "source": [
    "def filter_func(example: dict) -> dict:\n",
    "    return example['label'] == 1\n",
    "\n",
    "# მოვნიშნოთ სტრიქონები სადაც label არის 1-ის ტოლი\n",
    "filtered_dataset = train_dataset.filter(lambda x: filter_func(x))\n",
    "print(\"გაფილტრული მონაცემები (label == 1):\")\n",
    "filtered_dataset"
   ]
  },
  {
   "cell_type": "markdown",
   "id": "9c275699-0b5f-4466-8f05-87efa59e011b",
   "metadata": {},
   "source": [
    "### ცვლადების ტრანსფორმაცა\n",
    "mapის ფუნქცია Huggig FacDataset-ისის ბიბლიოთეკაში გამოიყენება მონაცეა ნაკრებისის თითოეულ ელემეზე ე ტრანსფორმაცი შესასრულებლადადარისზე ეფექტურია და შეუძლია გაუმკლავდეს ჯგუფუ(batch) რ დამუშავებას, რაც მაგანსაკუთრებულად ეფექტურს ხდის დავალებებისთვისს, როგორიც:აა ტოკენიზაცია, მონაცემთაუგმენტაციაბა აინფორმაციის ამოკრეფაბაგამოსაყენებლად უნდა გადავცეთ ჩვენთვის სასურველი ფუნქცია - მიცემულ ფუნქციას გადაატარებს თითოეულ სტრიქონს (ან სტრიქონების ჯგუფს ბაჩური დამუშავებისას). mapის ფუნქცია ინარჩუნებს მონაცემთა ნაკრების სტრუქტურას, რაც საშუალებას იძლევა შეუფერხებლად ინტეგრირდეს სხვა Hugging Facსხვა ბიბლიოთეკებთან.ნ.\n"
   ]
  },
  {
   "cell_type": "code",
   "execution_count": 53,
   "id": "23800c78-f929-4244-9826-fe8a6f9d105c",
   "metadata": {},
   "outputs": [
    {
     "data": {
      "text/plain": [
       "{'text': \"The story is quite original, but the movie is kinda slow building up to the point where they steal the cars. Its kinda nice though to watch them prepare the stealing too, but the actual stealing should've been more in picture... However the stunt work on this movie was excellent and it is definetly a movie you HAVE to see (7/10)\",\n",
       " 'label': 1,\n",
       " 'words': ['The',\n",
       "  'story',\n",
       "  'is',\n",
       "  'quite',\n",
       "  'original,',\n",
       "  'but',\n",
       "  'the',\n",
       "  'movie',\n",
       "  'is',\n",
       "  'kinda',\n",
       "  'slow',\n",
       "  'building',\n",
       "  'up',\n",
       "  'to',\n",
       "  'the',\n",
       "  'point',\n",
       "  'where',\n",
       "  'they',\n",
       "  'steal',\n",
       "  'the',\n",
       "  'cars.',\n",
       "  'Its',\n",
       "  'kinda',\n",
       "  'nice',\n",
       "  'though',\n",
       "  'to',\n",
       "  'watch',\n",
       "  'them',\n",
       "  'prepare',\n",
       "  'the',\n",
       "  'stealing',\n",
       "  'too,',\n",
       "  'but',\n",
       "  'the',\n",
       "  'actual',\n",
       "  'stealing',\n",
       "  \"should've\",\n",
       "  'been',\n",
       "  'more',\n",
       "  'in',\n",
       "  'picture...',\n",
       "  'However',\n",
       "  'the',\n",
       "  'stunt',\n",
       "  'work',\n",
       "  'on',\n",
       "  'this',\n",
       "  'movie',\n",
       "  'was',\n",
       "  'excellent',\n",
       "  'and',\n",
       "  'it',\n",
       "  'is',\n",
       "  'definetly',\n",
       "  'a',\n",
       "  'movie',\n",
       "  'you',\n",
       "  'HAVE',\n",
       "  'to',\n",
       "  'see',\n",
       "  '(7/10)']}"
      ]
     },
     "execution_count": 53,
     "metadata": {},
     "output_type": "execute_result"
    }
   ],
   "source": [
    "def split_text_into_words(example: dict) -> dict:\n",
    "    example['words'] = example['text'].split(' ')\n",
    "    return example\n",
    "\n",
    "# .map მეთოდის გამოყენებით შევქნმათ ახალი სვეტი - დავყოთ ტექსტი სიტყვებად\n",
    "processed_dataset = train_dataset.map(split_text_into_words)\n",
    "print(\"დატოკენებული ტექსტი:\")\n",
    "processed_dataset[3]"
   ]
  },
  {
   "cell_type": "markdown",
   "id": "4d73e180-0eb8-4922-a058-d2388c18ff7a",
   "metadata": {},
   "source": [
    "### მონაცემების პარალელური დამუშავება\n",
    "Hugging Face-ის მონაცემთა ბიბლიოთეკა, განსხვავებით Pandas-ისგან, გვთავაზობს ჩაშენებულ მონაცემების პარალელური დამუშავების ფუნქციონალს, რაც განსაკუთრებით მნიშვნელობას იძენს დიდ მონაცემებთან მუშაობის შემთხვევაში. მიუხედავად იმისა, რომ Pandas-ს შეუძლია მონაცემთა პარალელური დამუშავება დამატებითი ბიბლიოთეკების დახმარებით (Dask), datasets ბუნებრივად უჭერს მხარს მრავალპროცესორულ დამუშავებას ისეთ ფუნქციებში, როგორიცაა map და filter, რაც უზრუნველყოფს მონაცემთა შედარებით სწრაფ და ეფექტურ ტრანსფორმაციას.\n"
   ]
  },
  {
   "cell_type": "code",
   "execution_count": 54,
   "id": "194522ab-6df3-43ab-8487-3915fcb58f70",
   "metadata": {},
   "outputs": [
    {
     "name": "stdout",
     "output_type": "stream",
     "text": [
      "კომპიუტერზე 12 პარალელური პროცესის გაშვებაა შესაძლებელი\n"
     ]
    }
   ],
   "source": [
    "# გამოვიყენოთ მონაცემების პარალელური დამუშავება\n",
    "import multiprocessing\n",
    "\n",
    "# მივუთითოთ პროცესების რაოდენობა\n",
    "# multiprocessing.cpu_count() გამოიყენებს არსებულ ყველა core-ს.\n",
    "num_proc = multiprocessing.cpu_count()\n",
    "print(f'კომპიუტერზე {num_proc} პარალელური პროცესის გაშვებაა შესაძლებელი')"
   ]
  },
  {
   "cell_type": "markdown",
   "id": "7c8e576b-2435-4d77-ae54-b1e099a26b02",
   "metadata": {},
   "source": [
    "### მონაცემების პანდასში გადატანა"
   ]
  },
  {
   "cell_type": "markdown",
   "id": "701c484b-49b9-48af-a43f-36352a48d04b",
   "metadata": {},
   "source": [
    "Padnas DataFrame & Huggingface Dataset ყველაზე პოპულარული ბიბლიოთეკებია, ამიტომ მარტივად არის შესაძლებელი მონაცემების ერთი ფორმატიდან მეორეში გადატანა."
   ]
  },
  {
   "cell_type": "code",
   "execution_count": 10,
   "id": "ce9d2562-19ea-4794-8c2c-cc2ea7c3fb98",
   "metadata": {},
   "outputs": [
    {
     "data": {
      "text/plain": [
       "Dataset({\n",
       "    features: ['text', 'label'],\n",
       "    num_rows: 25000\n",
       "})"
      ]
     },
     "execution_count": 10,
     "metadata": {},
     "output_type": "execute_result"
    }
   ],
   "source": [
    "from datasets import Dataset, load_dataset\n",
    "\n",
    "# ჩავტვირთოთ მონაცემები Dataset კლასში\n",
    "dataset = load_dataset('imdb', split='train')\n",
    "dataset"
   ]
  },
  {
   "cell_type": "code",
   "execution_count": 11,
   "id": "665cc806-e37c-42dd-8192-7ec5380f0103",
   "metadata": {},
   "outputs": [
    {
     "data": {
      "text/html": [
       "<div>\n",
       "<style scoped>\n",
       "    .dataframe tbody tr th:only-of-type {\n",
       "        vertical-align: middle;\n",
       "    }\n",
       "\n",
       "    .dataframe tbody tr th {\n",
       "        vertical-align: top;\n",
       "    }\n",
       "\n",
       "    .dataframe thead th {\n",
       "        text-align: right;\n",
       "    }\n",
       "</style>\n",
       "<table border=\"1\" class=\"dataframe\">\n",
       "  <thead>\n",
       "    <tr style=\"text-align: right;\">\n",
       "      <th></th>\n",
       "      <th>text</th>\n",
       "      <th>label</th>\n",
       "    </tr>\n",
       "  </thead>\n",
       "  <tbody>\n",
       "    <tr>\n",
       "      <th>0</th>\n",
       "      <td>I rented I AM CURIOUS-YELLOW from my video sto...</td>\n",
       "      <td>0</td>\n",
       "    </tr>\n",
       "    <tr>\n",
       "      <th>1</th>\n",
       "      <td>\"I Am Curious: Yellow\" is a risible and preten...</td>\n",
       "      <td>0</td>\n",
       "    </tr>\n",
       "    <tr>\n",
       "      <th>2</th>\n",
       "      <td>If only to avoid making this type of film in t...</td>\n",
       "      <td>0</td>\n",
       "    </tr>\n",
       "    <tr>\n",
       "      <th>3</th>\n",
       "      <td>This film was probably inspired by Godard's Ma...</td>\n",
       "      <td>0</td>\n",
       "    </tr>\n",
       "    <tr>\n",
       "      <th>4</th>\n",
       "      <td>Oh, brother...after hearing about this ridicul...</td>\n",
       "      <td>0</td>\n",
       "    </tr>\n",
       "  </tbody>\n",
       "</table>\n",
       "</div>"
      ],
      "text/plain": [
       "                                                text  label\n",
       "0  I rented I AM CURIOUS-YELLOW from my video sto...      0\n",
       "1  \"I Am Curious: Yellow\" is a risible and preten...      0\n",
       "2  If only to avoid making this type of film in t...      0\n",
       "3  This film was probably inspired by Godard's Ma...      0\n",
       "4  Oh, brother...after hearing about this ridicul...      0"
      ]
     },
     "execution_count": 11,
     "metadata": {},
     "output_type": "execute_result"
    }
   ],
   "source": [
    "# Huggingface Dataset -> Pandas DataFrame\n",
    "df = dataset.to_pandas()\n",
    "df.head()"
   ]
  },
  {
   "cell_type": "code",
   "execution_count": 12,
   "id": "4757e8bc-1b8b-4cfa-8b10-e5b145c77ce2",
   "metadata": {},
   "outputs": [
    {
     "data": {
      "text/plain": [
       "Dataset({\n",
       "    features: ['text', 'label'],\n",
       "    num_rows: 25000\n",
       "})"
      ]
     },
     "execution_count": 12,
     "metadata": {},
     "output_type": "execute_result"
    }
   ],
   "source": [
    "# Pandas DataFrame -> Huggingface Dataset\n",
    "ds = Dataset.from_pandas(df)\n",
    "ds"
   ]
  },
  {
   "cell_type": "markdown",
   "id": "f566a502",
   "metadata": {},
   "source": [
    "## API"
   ]
  },
  {
   "cell_type": "markdown",
   "id": "f7fefa9c-ce07-4b25-adc3-8a62c7f09ec3",
   "metadata": {},
   "source": [
    "### API-ები - შესავალი\n",
    "\"API-ები (აპლიკაციის პროგრამირების ინტერფეისები) საშუალებას აძლევს სხვადასხვა პროგრამულ სისტემებს ერთმანეთთან კომუნიკაცია დაამყარონ. ისინი ჩვეულებრივ იყენებენ HTTP მოთხოვნებს, სადაც GET მოთხოვნები იღებენ მონაცემებს სერვერიდან, ხოლო POST მოთხოვნები აგზავნიან მონაცემებს სერვერზე რესურსების შესაქმნელად ან განსაახლებლად. GET მოთხოვნები გამოიყენება მონაცემების წასაკითხად მათი შეცვლის გარეშე, ხოლო POST მოთხოვნები გამოიყენება ისეთი ქმედებებისთვის, რომლებიც ცვლიან მონაცემებს, როგორიცაა ფორმის მონაცემების გაგზავნა ან ფაილის ატვირთვა. GET და POST მოთხოვნების გამოყენების გაგება ფუნდამენტურია ვებ სერვისებთან ინტეგრაციისა და ინტერაქტიული, მონაცემებზე დაფუძნებული აპლიკაციების შესაქმნელად.\"\n",
    "\n",
    "### Importing Libraries\n",
    "პირველ რიგში დავაიმპორტოთ საჭირო ბიბლიოთეკები"
   ]
  },
  {
   "cell_type": "code",
   "execution_count": 55,
   "id": "add4b5ec-179a-45fd-9910-7e70bdcdf112",
   "metadata": {},
   "outputs": [],
   "source": [
    "import requests\n",
    "from pprint import PrettyPrinter\n",
    "pp = PrettyPrinter()"
   ]
  },
  {
   "cell_type": "markdown",
   "id": "6f404601-4591-4a9a-a2f2-e0a9cd7db549",
   "metadata": {},
   "source": [
    "### GET მოთხოვნები\n",
    "* **მიზანი:** მონაცემების მიღება სერვერიდან მათი მოდიფიცირების გარეშე.\n",
    "* **იდემპოტენტურობა:** მრავალი იდენტური მოთხოვნა იგივე ეფექტს იძლევა.\n",
    "* **პარამეტრები:** ეთითება URL-ში.\n",
    "* **გამოყენების მაგალითები:** მონაცემების მიღება, რესურსების წაკითხვა და ინფორმაციის მოძიება.\n"
   ]
  },
  {
   "cell_type": "code",
   "execution_count": 56,
   "id": "be41a90e-8892-473e-8a6e-e0c50883ec2b",
   "metadata": {},
   "outputs": [
    {
     "name": "stdout",
     "output_type": "stream",
     "text": [
      "სტატუსის კოდი: 200\n",
      "დაბრუნებული JSON:\n",
      "{'bpi': {'BTC': {'code': 'BTC',\n",
      "                 'description': 'Bitcoin',\n",
      "                 'rate': '1.0000',\n",
      "                 'rate_float': 1},\n",
      "         'USD': {'code': 'USD',\n",
      "                 'description': 'United States Dollar',\n",
      "                 'rate': '69,789.299',\n",
      "                 'rate_float': 69789.2994}},\n",
      " 'disclaimer': 'This data was produced from the CoinDesk Bitcoin Price Index '\n",
      "               '(USD). Non-USD currency data converted using hourly conversion '\n",
      "               'rate from openexchangerates.org',\n",
      " 'time': {'updated': 'Jun 10, 2024 16:37:16 UTC',\n",
      "          'updatedISO': '2024-06-10T16:37:16+00:00',\n",
      "          'updateduk': 'Jun 10, 2024 at 17:37 BST'}}\n"
     ]
    }
   ],
   "source": [
    "# GET მოთხოვნის მაგალითი\n",
    "response = requests.get('https://api.coindesk.com/v1/bpi/currentprice/BTC.json')\n",
    "\n",
    "# შევამოწმოთ პასუხის კოდი\n",
    "print(\"სტატუსის კოდი:\", response.status_code)\n",
    "\n",
    "# დავაკონვერტიროთ მონაცემები JSON ფაილად\n",
    "data = response.json()\n",
    "print(\"დაბრუნებული JSON:\")\n",
    "pp.pprint(data)"
   ]
  },
  {
   "cell_type": "markdown",
   "id": "eb0101e0-91d7-488d-bfca-bda1bec3edc6",
   "metadata": {},
   "source": [
    "### POST მოთხოვნები\n",
    "* **მიზანი:** მონაცემების გაგზავნა სერვერზე რესურსის შესაქმნელად ან განსაახლებლად.\n",
    "* **არაიდემპოტენტური:** მრავალ იდენტურ მოთხოვნას შეიძლება სხვადასხვა ეფექტი ქონდეს.\n",
    "* **პარამეტრები:** იგზავნება მოთხოვნის ტანში, ხშირად JSON ფორმატში.\n",
    "* **გამოყენების მაგალითები:** მონაცემების გაგზავნა/წარდგენა, ფაილების ატვირთვა, ახალი რესურსების შექმნა..."
   ]
  },
  {
   "cell_type": "code",
   "execution_count": 57,
   "id": "c04d2168-22df-4059-9dc8-19c192d031f2",
   "metadata": {},
   "outputs": [
    {
     "name": "stdout",
     "output_type": "stream",
     "text": [
      "პასუხის კოდი: 200\n",
      "{\n",
      "  \"args\": {}, \n",
      "  \"data\": \"\", \n",
      "  \"files\": {}, \n",
      "  \"form\": {\n",
      "    \"key\": \"value\"\n",
      "  }, \n",
      "  \"headers\": {\n",
      "    \"Accept\": \"*/*\", \n",
      "    \"Accept-Encoding\": \"gzip, deflate, br\", \n",
      "    \"Content-Length\": \"9\", \n",
      "    \"Content-Type\": \"application/x-www-form-urlencoded\", \n",
      "    \"Host\": \"httpbin.org\", \n",
      "    \"User-Agent\": \"python-requests/2.32.3\", \n",
      "    \"X-Amzn-Trace-Id\": \"Root=1-66672e10-30bb8a263dd2cdbb2cf51a46\"\n",
      "  }, \n",
      "  \"json\": null, \n",
      "  \"origin\": \"80.83.134.86\", \n",
      "  \"url\": \"https://httpbin.org/post\"\n",
      "}\n",
      "\n"
     ]
    }
   ],
   "source": [
    "import requests\n",
    "\n",
    "data = {\n",
    "    'key': 'value'\n",
    "}\n",
    "\n",
    "# The API endpoint რომელსაც გამოვიყენებთ\n",
    "url_post = \"https://jsonplaceholder.typicode.com/posts\"\n",
    "\n",
    "# გავგზავნოთ POST მოთხოვნა\n",
    "post_response = requests.post('https://httpbin.org/post', data = {'key':'value'})\n",
    "\n",
    "# შევამოწმოთ პასუხის კოდი\n",
    "print(\"პასუხის კოდი:\", post_response.status_code)\n",
    "\n",
    "print(post_response.text)"
   ]
  }
 ],
 "metadata": {
  "kernelspec": {
   "display_name": "cleaning_env",
   "language": "python",
   "name": "python3"
  },
  "language_info": {
   "codemirror_mode": {
    "name": "ipython",
    "version": 3
   },
   "file_extension": ".py",
   "mimetype": "text/x-python",
   "name": "python",
   "nbconvert_exporter": "python",
   "pygments_lexer": "ipython3",
   "version": "3.10.0"
  }
 },
 "nbformat": 4,
 "nbformat_minor": 5
}
