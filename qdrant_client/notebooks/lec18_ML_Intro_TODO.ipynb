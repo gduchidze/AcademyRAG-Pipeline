{
  "cells": [
    {
      "cell_type": "markdown",
      "source": [
        "მოდი, გავეცნოთ მანქანური სწავლების მუშაობის ციკლსა და ძირითად ტერმინოლოგიას:"
      ],
      "metadata": {
        "id": "03VSCK965NF6"
      }
    },
    {
      "cell_type": "markdown",
      "source": [
        "\n",
        "\n",
        " <img src=\"https://k21academy.com/wp-content/uploads/2020/10/Azure-Machine-Learning-service-Workflow.gif\" width=600 style=\"display: block; margin: 0 auto\">"
      ],
      "metadata": {
        "id": "51vvWYii5fo1"
      }
    },
    {
      "cell_type": "markdown",
      "source": [
        "### Artificial Intelligence (AI):\n",
        "\n",
        "კომპიუტერული მეცნიერების დარგი, რომელიც მიზნად ისახავს შექმნას სისტემები, რომლებსაც შეუძლიათ შეასრულონ ამოცანები, რომლებიც, როგორც წესი, მოითხოვს ადამიანის ინტელექტს.\n",
        "\n",
        "### Data Science:\n",
        "\n",
        "მონაცემთა მეცნიერება არის მულტიდისციპლინარული სფერო, რომელიც დიდი რაოდენობით მონაცემების გასაანალიზებლად აერთიანებს პრინციპებსა და პრაქტიკებს მათემატიკის, სტატისტიკის, ხელოვნური ინტელექტის კომპიუტერული ინჟინერიის სფეროებიდან. ეს ანალიზი საჭიროა მონაცემებში არსებული კანონზომიერებების დასადგენად, აღმოჩენების გასაკეთებლად, პროგნოზირებისთვის და გადაწყვეტილებების მისაღებად.\n",
        "\n",
        "### Data Engineering - The Foundation\n",
        "\n",
        "მონაცემთა ინჟინერია მოიცავს სისტემების დიზაინს და იმპლემენტაციას მონაცემთა შეგროვების, შენახვისა და ანალიზისთვის, მონაცემთა დამუშავების ტექნოლოგიების პრაქტიკულ გამოყენებაზე.\n",
        "\n",
        "მონაცემთა ინჟინერია ქმნის მონაცემთა ინფრასტრუქტურას (როგორიცაა მონაცემთა ბაზები და ფართომასშტაბიანი დამუშავების სისტემები), რომელიც მონაცემთა მეცნიერებას სჭირდება ანალიზისა და მოდელირების შესასრულებლად. ის უზრუნველყოფს მონაცემების ხელმისაწვდომობას, “სისუფთავეს” და სტრუქტურიზაციას.\n",
        "\n",
        "### Data Analytics - The Process of Deriving Insight\n",
        "\n",
        "მონაცემთა ანალიტიკა მოიცავს მეთოდებს, რომლებიც გამოიყენება მონაცემების გასაანალიზებლად. ეს გულისხმობს სპეციალიზებული სისტემებისა და პროგრამული უზრუნველყოფის გამოყენებას მონაცემთა ანალიზისთვის, რაც საჭიროა გადაწყვეტილებების მისაღებად, ბიზნეს ამოცანების გადასაჭრელად და შემდეგი ნაბიჯების განსასაზღვრად.\n",
        "\n",
        "### Machine Learning (ML) - A Core Technique of AI\n",
        "\n",
        "ML არის ხელოვნური ინტელექტის ძირითადი ქვედარგი, რომელიც აძლევს სისტემებს შესაძლებლობას ავტომატურად ისწავლონ და განვითარდნენ არსებულ გამოცდილებაზე დაყრდნობით. ML გამოიყენება ისეთი ამოცანებისთვის, როგორიცაა პროგნოზირება, კლასიფიკაცია და მონაცემების კანონზომიერებების ამოცნობა.\n",
        "\n",
        "ML მოდელები არის ინსტრუმენტები, რომლითაც AI-ს შესაძლებლობები რეალიზდება.\n",
        "\n",
        "### Model - The Output of ML\n",
        "\n",
        "ML-ში მოდელი არის სასწავლო პროცესის შედეგი და შეიძლება განისაზღვროს, როგორც რეალურ სამყაროში პროცესის მათემატიკური წარმოდგენა. მოდელები გაწვრთნილი არიან პროგნოზების გასაკეთებლად ან მონაცემთა კლასიფიკაციისთვის, მონაცემების საფუძველზე.\n",
        "\n",
        "### Model Training\n",
        "\n",
        "მოდელის \"გაწვრთნის\" პროცესი ე.წ. \"სასწავლო\" მონაცემებზე (training data), რომლის დროსაც რეგულირდება პარამეტრები და კონფიგურაციები კონკრეტული ამონაცის ჭრილში, რათა მინიმუმამდე დავიდეს განსხვავება მოდელის პროგნოზებსა და რეალურ შედეგებს შორის. ეს პროცესი ხშირად განმეორებადია და ბევრ იტერაციას მოითხოვს. საბოლოო მიზანი არის ისეთი მოდელის შემუშავება, რომელიც მისთვის უცნობ მონაცემზეც შეძლებს გადაწყვეტილებების მიღებას და პროგნოზების გაკეთებას."
      ],
      "metadata": {
        "id": "TxYUPc6Q45BC"
      }
    },
    {
      "cell_type": "markdown",
      "source": [
        "\n",
        "\n",
        "---\n",
        "\n"
      ],
      "metadata": {
        "id": "jN0_78t56rKy"
      }
    },
    {
      "cell_type": "markdown",
      "source": [
        "\n",
        " <img src=\"https://datamapu.com/images/20231017_supervised_unsupervised/supervised.gif\" width=600 style=\"display: block;  margin: 0 auto\">"
      ],
      "metadata": {
        "id": "c0jnrohM6YaU"
      }
    },
    {
      "cell_type": "markdown",
      "source": [
        " <img src=\"https://datamapu.com/images/20231017_supervised_unsupervised/unsupervised.gif\" width=600 style=\"display: block;  margin: 0 auto\">"
      ],
      "metadata": {
        "id": "CG7OMYuQ6iwx"
      }
    },
    {
      "cell_type": "markdown",
      "source": [
        "\n",
        " <img src=\"https://i.makeagif.com/media/9-11-2024/rR8j2B.gif\" width=600 style=\"display: block;  margin: 0 auto\">"
      ],
      "metadata": {
        "id": "xpj9xCkd7ZOt"
      }
    },
    {
      "cell_type": "markdown",
      "source": [
        "\n",
        " <img src=\"https://i.makeagif.com/media/6-01-2023/5207ei.gif\" width=600 style=\"display: block;  margin: 0 auto\">"
      ],
      "metadata": {
        "id": "_UF2Dy947_Wz"
      }
    }
  ],
  "metadata": {
    "kernelspec": {
      "display_name": "Python 3",
      "language": "python",
      "name": "python3"
    },
    "language_info": {
      "codemirror_mode": {
        "name": "ipython",
        "version": 3
      },
      "file_extension": ".py",
      "mimetype": "text/x-python",
      "name": "python",
      "nbconvert_exporter": "python",
      "pygments_lexer": "ipython3",
      "version": "3.9.6"
    },
    "vscode": {
      "interpreter": {
        "hash": "31f2aee4e71d21fbe5cf8b01ff0e069b9275f58929596ceb00d14d90e3e16cd6"
      }
    },
    "colab": {
      "provenance": []
    }
  },
  "nbformat": 4,
  "nbformat_minor": 0
}